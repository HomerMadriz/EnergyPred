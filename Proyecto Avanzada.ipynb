{
 "cells": [
  {
   "cell_type": "markdown",
   "metadata": {},
   "source": [
    "# Predicción de Precios de Energía 2018\n",
    "### Proyecto final Programación Avanzada\n",
    "\n",
    "Autores: \n",
    "\n",
    "Omar Antonio Madriz Almanza \n",
    "\n",
    "José Luis Torrentera Arróniz"
   ]
  },
  {
   "cell_type": "markdown",
   "metadata": {},
   "source": [
    "## Regresión Lineal (Con Zona)"
   ]
  },
  {
   "cell_type": "markdown",
   "metadata": {},
   "source": [
    "Librerías usadas: pandas, sklearn y matplotlib"
   ]
  },
  {
   "cell_type": "code",
   "execution_count": 2,
   "metadata": {},
   "outputs": [],
   "source": [
    "import pandas as pd\n",
    "from sklearn import linear_model\n",
    "from sklearn.metrics import mean_squared_error, r2_score\n",
    "import matplotlib.pyplot as plt\n"
   ]
  },
  {
   "cell_type": "markdown",
   "metadata": {},
   "source": [
    "Lectura de archivos csv a dataframes"
   ]
  },
  {
   "cell_type": "code",
   "execution_count": 4,
   "metadata": {},
   "outputs": [
    {
     "data": {
      "text/html": [
       "<div>\n",
       "<style scoped>\n",
       "    .dataframe tbody tr th:only-of-type {\n",
       "        vertical-align: middle;\n",
       "    }\n",
       "\n",
       "    .dataframe tbody tr th {\n",
       "        vertical-align: top;\n",
       "    }\n",
       "\n",
       "    .dataframe thead th {\n",
       "        text-align: right;\n",
       "    }\n",
       "</style>\n",
       "<table border=\"1\" class=\"dataframe\">\n",
       "  <thead>\n",
       "    <tr style=\"text-align: right;\">\n",
       "      <th></th>\n",
       "      <th>Fecha</th>\n",
       "      <th>Hora</th>\n",
       "      <th>Zona de Carga</th>\n",
       "      <th>Precio Zonal  ($/MWh)</th>\n",
       "      <th>Componente energia  ($/MWh)</th>\n",
       "      <th>Componente perdidas  ($/MWh)</th>\n",
       "      <th>Componente Congestion  ($/MWh)</th>\n",
       "    </tr>\n",
       "  </thead>\n",
       "  <tbody>\n",
       "    <tr>\n",
       "      <th>0</th>\n",
       "      <td>01/01/2017</td>\n",
       "      <td>1</td>\n",
       "      <td>ACAPULCO</td>\n",
       "      <td>1010.09</td>\n",
       "      <td>640.92</td>\n",
       "      <td>77.38</td>\n",
       "      <td>291.79</td>\n",
       "    </tr>\n",
       "    <tr>\n",
       "      <th>1</th>\n",
       "      <td>01/01/2017</td>\n",
       "      <td>2</td>\n",
       "      <td>ACAPULCO</td>\n",
       "      <td>809.93</td>\n",
       "      <td>724.95</td>\n",
       "      <td>84.98</td>\n",
       "      <td>0.00</td>\n",
       "    </tr>\n",
       "    <tr>\n",
       "      <th>2</th>\n",
       "      <td>01/01/2017</td>\n",
       "      <td>3</td>\n",
       "      <td>ACAPULCO</td>\n",
       "      <td>707.82</td>\n",
       "      <td>638.03</td>\n",
       "      <td>69.79</td>\n",
       "      <td>0.00</td>\n",
       "    </tr>\n",
       "    <tr>\n",
       "      <th>3</th>\n",
       "      <td>01/01/2017</td>\n",
       "      <td>4</td>\n",
       "      <td>ACAPULCO</td>\n",
       "      <td>675.76</td>\n",
       "      <td>612.79</td>\n",
       "      <td>62.97</td>\n",
       "      <td>0.00</td>\n",
       "    </tr>\n",
       "    <tr>\n",
       "      <th>4</th>\n",
       "      <td>01/01/2017</td>\n",
       "      <td>5</td>\n",
       "      <td>ACAPULCO</td>\n",
       "      <td>659.99</td>\n",
       "      <td>600.75</td>\n",
       "      <td>59.25</td>\n",
       "      <td>0.00</td>\n",
       "    </tr>\n",
       "  </tbody>\n",
       "</table>\n",
       "</div>"
      ],
      "text/plain": [
       "        Fecha  Hora Zona de Carga  Precio Zonal  ($/MWh)  \\\n",
       "0  01/01/2017     1      ACAPULCO                1010.09   \n",
       "1  01/01/2017     2      ACAPULCO                 809.93   \n",
       "2  01/01/2017     3      ACAPULCO                 707.82   \n",
       "3  01/01/2017     4      ACAPULCO                 675.76   \n",
       "4  01/01/2017     5      ACAPULCO                 659.99   \n",
       "\n",
       "   Componente energia  ($/MWh)  Componente perdidas  ($/MWh)  \\\n",
       "0                       640.92                         77.38   \n",
       "1                       724.95                         84.98   \n",
       "2                       638.03                         69.79   \n",
       "3                       612.79                         62.97   \n",
       "4                       600.75                         59.25   \n",
       "\n",
       "   Componente Congestion  ($/MWh)  \n",
       "0                          291.79  \n",
       "1                            0.00  \n",
       "2                            0.00  \n",
       "3                            0.00  \n",
       "4                            0.00  "
      ]
     },
     "execution_count": 4,
     "metadata": {},
     "output_type": "execute_result"
    }
   ],
   "source": [
    "df2017 = pd.read_csv(\"Datos2017.csv\", engine='python')\n",
    "df2018 = pd.read_csv(\"Datos2018.csv\", engine = 'python')\n",
    "df2017.head()"
   ]
  },
  {
   "cell_type": "code",
   "execution_count": 5,
   "metadata": {},
   "outputs": [
    {
     "data": {
      "text/html": [
       "<div>\n",
       "<style scoped>\n",
       "    .dataframe tbody tr th:only-of-type {\n",
       "        vertical-align: middle;\n",
       "    }\n",
       "\n",
       "    .dataframe tbody tr th {\n",
       "        vertical-align: top;\n",
       "    }\n",
       "\n",
       "    .dataframe thead th {\n",
       "        text-align: right;\n",
       "    }\n",
       "</style>\n",
       "<table border=\"1\" class=\"dataframe\">\n",
       "  <thead>\n",
       "    <tr style=\"text-align: right;\">\n",
       "      <th></th>\n",
       "      <th>Fecha</th>\n",
       "      <th>Hora</th>\n",
       "      <th>Zona de Carga</th>\n",
       "      <th>Precio Zonal  ($/MWh)</th>\n",
       "      <th>Componente energia  ($/MWh)</th>\n",
       "      <th>Componente perdidas  ($/MWh)</th>\n",
       "      <th>Componente Congestion  ($/MWh)</th>\n",
       "    </tr>\n",
       "  </thead>\n",
       "  <tbody>\n",
       "    <tr>\n",
       "      <th>0</th>\n",
       "      <td>01/01/2018</td>\n",
       "      <td>1</td>\n",
       "      <td>ACAPULCO</td>\n",
       "      <td>685.78</td>\n",
       "      <td>620.61</td>\n",
       "      <td>65.17</td>\n",
       "      <td>0.0</td>\n",
       "    </tr>\n",
       "    <tr>\n",
       "      <th>1</th>\n",
       "      <td>01/01/2018</td>\n",
       "      <td>2</td>\n",
       "      <td>ACAPULCO</td>\n",
       "      <td>656.15</td>\n",
       "      <td>598.67</td>\n",
       "      <td>57.48</td>\n",
       "      <td>0.0</td>\n",
       "    </tr>\n",
       "    <tr>\n",
       "      <th>2</th>\n",
       "      <td>01/01/2018</td>\n",
       "      <td>3</td>\n",
       "      <td>ACAPULCO</td>\n",
       "      <td>648.10</td>\n",
       "      <td>593.70</td>\n",
       "      <td>54.40</td>\n",
       "      <td>0.0</td>\n",
       "    </tr>\n",
       "    <tr>\n",
       "      <th>3</th>\n",
       "      <td>01/01/2018</td>\n",
       "      <td>4</td>\n",
       "      <td>ACAPULCO</td>\n",
       "      <td>622.45</td>\n",
       "      <td>572.44</td>\n",
       "      <td>50.01</td>\n",
       "      <td>0.0</td>\n",
       "    </tr>\n",
       "    <tr>\n",
       "      <th>4</th>\n",
       "      <td>01/01/2018</td>\n",
       "      <td>5</td>\n",
       "      <td>ACAPULCO</td>\n",
       "      <td>585.41</td>\n",
       "      <td>541.02</td>\n",
       "      <td>44.40</td>\n",
       "      <td>0.0</td>\n",
       "    </tr>\n",
       "  </tbody>\n",
       "</table>\n",
       "</div>"
      ],
      "text/plain": [
       "        Fecha  Hora Zona de Carga  Precio Zonal  ($/MWh)  \\\n",
       "0  01/01/2018     1      ACAPULCO                 685.78   \n",
       "1  01/01/2018     2      ACAPULCO                 656.15   \n",
       "2  01/01/2018     3      ACAPULCO                 648.10   \n",
       "3  01/01/2018     4      ACAPULCO                 622.45   \n",
       "4  01/01/2018     5      ACAPULCO                 585.41   \n",
       "\n",
       "   Componente energia  ($/MWh)  Componente perdidas  ($/MWh)  \\\n",
       "0                       620.61                         65.17   \n",
       "1                       598.67                         57.48   \n",
       "2                       593.70                         54.40   \n",
       "3                       572.44                         50.01   \n",
       "4                       541.02                         44.40   \n",
       "\n",
       "   Componente Congestion  ($/MWh)  \n",
       "0                             0.0  \n",
       "1                             0.0  \n",
       "2                             0.0  \n",
       "3                             0.0  \n",
       "4                             0.0  "
      ]
     },
     "execution_count": 5,
     "metadata": {},
     "output_type": "execute_result"
    }
   ],
   "source": [
    "df2018.head()"
   ]
  },
  {
   "cell_type": "markdown",
   "metadata": {},
   "source": [
    "Filtrado por zona"
   ]
  },
  {
   "cell_type": "code",
   "execution_count": 6,
   "metadata": {},
   "outputs": [
    {
     "data": {
      "text/html": [
       "<div>\n",
       "<style scoped>\n",
       "    .dataframe tbody tr th:only-of-type {\n",
       "        vertical-align: middle;\n",
       "    }\n",
       "\n",
       "    .dataframe tbody tr th {\n",
       "        vertical-align: top;\n",
       "    }\n",
       "\n",
       "    .dataframe thead th {\n",
       "        text-align: right;\n",
       "    }\n",
       "</style>\n",
       "<table border=\"1\" class=\"dataframe\">\n",
       "  <thead>\n",
       "    <tr style=\"text-align: right;\">\n",
       "      <th></th>\n",
       "      <th>Fecha</th>\n",
       "      <th>Hora</th>\n",
       "      <th>Zona de Carga</th>\n",
       "      <th>Precio Zonal  ($/MWh)</th>\n",
       "      <th>Componente energia  ($/MWh)</th>\n",
       "      <th>Componente perdidas  ($/MWh)</th>\n",
       "      <th>Componente Congestion  ($/MWh)</th>\n",
       "    </tr>\n",
       "  </thead>\n",
       "  <tbody>\n",
       "    <tr>\n",
       "      <th>2352</th>\n",
       "      <td>01/01/2017</td>\n",
       "      <td>1</td>\n",
       "      <td>ZAMORA</td>\n",
       "      <td>750.18</td>\n",
       "      <td>640.92</td>\n",
       "      <td>19.07</td>\n",
       "      <td>90.19</td>\n",
       "    </tr>\n",
       "    <tr>\n",
       "      <th>2353</th>\n",
       "      <td>01/01/2017</td>\n",
       "      <td>2</td>\n",
       "      <td>ZAMORA</td>\n",
       "      <td>744.36</td>\n",
       "      <td>724.95</td>\n",
       "      <td>19.41</td>\n",
       "      <td>0.00</td>\n",
       "    </tr>\n",
       "    <tr>\n",
       "      <th>2354</th>\n",
       "      <td>01/01/2017</td>\n",
       "      <td>3</td>\n",
       "      <td>ZAMORA</td>\n",
       "      <td>654.01</td>\n",
       "      <td>638.03</td>\n",
       "      <td>15.98</td>\n",
       "      <td>0.00</td>\n",
       "    </tr>\n",
       "    <tr>\n",
       "      <th>2355</th>\n",
       "      <td>01/01/2017</td>\n",
       "      <td>4</td>\n",
       "      <td>ZAMORA</td>\n",
       "      <td>628.52</td>\n",
       "      <td>612.79</td>\n",
       "      <td>15.73</td>\n",
       "      <td>0.00</td>\n",
       "    </tr>\n",
       "    <tr>\n",
       "      <th>2356</th>\n",
       "      <td>01/01/2017</td>\n",
       "      <td>5</td>\n",
       "      <td>ZAMORA</td>\n",
       "      <td>614.05</td>\n",
       "      <td>600.75</td>\n",
       "      <td>13.30</td>\n",
       "      <td>0.00</td>\n",
       "    </tr>\n",
       "  </tbody>\n",
       "</table>\n",
       "</div>"
      ],
      "text/plain": [
       "           Fecha  Hora Zona de Carga  Precio Zonal  ($/MWh)  \\\n",
       "2352  01/01/2017     1        ZAMORA                 750.18   \n",
       "2353  01/01/2017     2        ZAMORA                 744.36   \n",
       "2354  01/01/2017     3        ZAMORA                 654.01   \n",
       "2355  01/01/2017     4        ZAMORA                 628.52   \n",
       "2356  01/01/2017     5        ZAMORA                 614.05   \n",
       "\n",
       "      Componente energia  ($/MWh)  Componente perdidas  ($/MWh)  \\\n",
       "2352                       640.92                         19.07   \n",
       "2353                       724.95                         19.41   \n",
       "2354                       638.03                         15.98   \n",
       "2355                       612.79                         15.73   \n",
       "2356                       600.75                         13.30   \n",
       "\n",
       "      Componente Congestion  ($/MWh)  \n",
       "2352                           90.19  \n",
       "2353                            0.00  \n",
       "2354                            0.00  \n",
       "2355                            0.00  \n",
       "2356                            0.00  "
      ]
     },
     "execution_count": 6,
     "metadata": {},
     "output_type": "execute_result"
    }
   ],
   "source": [
    "zona = 'ZAMORA'\n",
    "dfZona17 = df2017[df2017['Zona de Carga'].isin([zona])]\n",
    "dfZona18 = df2018[df2018['Zona de Carga'].isin([zona])]\n",
    "dfZona17.head()"
   ]
  },
  {
   "cell_type": "code",
   "execution_count": 7,
   "metadata": {},
   "outputs": [
    {
     "data": {
      "text/html": [
       "<div>\n",
       "<style scoped>\n",
       "    .dataframe tbody tr th:only-of-type {\n",
       "        vertical-align: middle;\n",
       "    }\n",
       "\n",
       "    .dataframe tbody tr th {\n",
       "        vertical-align: top;\n",
       "    }\n",
       "\n",
       "    .dataframe thead th {\n",
       "        text-align: right;\n",
       "    }\n",
       "</style>\n",
       "<table border=\"1\" class=\"dataframe\">\n",
       "  <thead>\n",
       "    <tr style=\"text-align: right;\">\n",
       "      <th></th>\n",
       "      <th>Fecha</th>\n",
       "      <th>Hora</th>\n",
       "      <th>Zona de Carga</th>\n",
       "      <th>Precio Zonal  ($/MWh)</th>\n",
       "      <th>Componente energia  ($/MWh)</th>\n",
       "      <th>Componente perdidas  ($/MWh)</th>\n",
       "      <th>Componente Congestion  ($/MWh)</th>\n",
       "    </tr>\n",
       "  </thead>\n",
       "  <tbody>\n",
       "    <tr>\n",
       "      <th>2352</th>\n",
       "      <td>01/01/2018</td>\n",
       "      <td>1</td>\n",
       "      <td>ZAMORA</td>\n",
       "      <td>645.20</td>\n",
       "      <td>620.61</td>\n",
       "      <td>24.59</td>\n",
       "      <td>0.0</td>\n",
       "    </tr>\n",
       "    <tr>\n",
       "      <th>2353</th>\n",
       "      <td>01/01/2018</td>\n",
       "      <td>2</td>\n",
       "      <td>ZAMORA</td>\n",
       "      <td>618.09</td>\n",
       "      <td>598.67</td>\n",
       "      <td>19.42</td>\n",
       "      <td>0.0</td>\n",
       "    </tr>\n",
       "    <tr>\n",
       "      <th>2354</th>\n",
       "      <td>01/01/2018</td>\n",
       "      <td>3</td>\n",
       "      <td>ZAMORA</td>\n",
       "      <td>612.78</td>\n",
       "      <td>593.70</td>\n",
       "      <td>19.08</td>\n",
       "      <td>0.0</td>\n",
       "    </tr>\n",
       "    <tr>\n",
       "      <th>2355</th>\n",
       "      <td>01/01/2018</td>\n",
       "      <td>4</td>\n",
       "      <td>ZAMORA</td>\n",
       "      <td>589.45</td>\n",
       "      <td>572.44</td>\n",
       "      <td>17.01</td>\n",
       "      <td>0.0</td>\n",
       "    </tr>\n",
       "    <tr>\n",
       "      <th>2356</th>\n",
       "      <td>01/01/2018</td>\n",
       "      <td>5</td>\n",
       "      <td>ZAMORA</td>\n",
       "      <td>553.87</td>\n",
       "      <td>541.02</td>\n",
       "      <td>12.85</td>\n",
       "      <td>0.0</td>\n",
       "    </tr>\n",
       "  </tbody>\n",
       "</table>\n",
       "</div>"
      ],
      "text/plain": [
       "           Fecha  Hora Zona de Carga  Precio Zonal  ($/MWh)  \\\n",
       "2352  01/01/2018     1        ZAMORA                 645.20   \n",
       "2353  01/01/2018     2        ZAMORA                 618.09   \n",
       "2354  01/01/2018     3        ZAMORA                 612.78   \n",
       "2355  01/01/2018     4        ZAMORA                 589.45   \n",
       "2356  01/01/2018     5        ZAMORA                 553.87   \n",
       "\n",
       "      Componente energia  ($/MWh)  Componente perdidas  ($/MWh)  \\\n",
       "2352                       620.61                         24.59   \n",
       "2353                       598.67                         19.42   \n",
       "2354                       593.70                         19.08   \n",
       "2355                       572.44                         17.01   \n",
       "2356                       541.02                         12.85   \n",
       "\n",
       "      Componente Congestion  ($/MWh)  \n",
       "2352                             0.0  \n",
       "2353                             0.0  \n",
       "2354                             0.0  \n",
       "2355                             0.0  \n",
       "2356                             0.0  "
      ]
     },
     "execution_count": 7,
     "metadata": {},
     "output_type": "execute_result"
    }
   ],
   "source": [
    "dfZona18.head()"
   ]
  },
  {
   "cell_type": "markdown",
   "metadata": {},
   "source": [
    "Filtramos sólo las columnas que necesitamos"
   ]
  },
  {
   "cell_type": "code",
   "execution_count": 8,
   "metadata": {},
   "outputs": [
    {
     "data": {
      "text/html": [
       "<div>\n",
       "<style scoped>\n",
       "    .dataframe tbody tr th:only-of-type {\n",
       "        vertical-align: middle;\n",
       "    }\n",
       "\n",
       "    .dataframe tbody tr th {\n",
       "        vertical-align: top;\n",
       "    }\n",
       "\n",
       "    .dataframe thead th {\n",
       "        text-align: right;\n",
       "    }\n",
       "</style>\n",
       "<table border=\"1\" class=\"dataframe\">\n",
       "  <thead>\n",
       "    <tr style=\"text-align: right;\">\n",
       "      <th></th>\n",
       "      <th>Fecha</th>\n",
       "      <th>Hora</th>\n",
       "      <th>Precio Zonal  ($/MWh)</th>\n",
       "    </tr>\n",
       "  </thead>\n",
       "  <tbody>\n",
       "    <tr>\n",
       "      <th>2352</th>\n",
       "      <td>01/01/2017</td>\n",
       "      <td>1</td>\n",
       "      <td>750.18</td>\n",
       "    </tr>\n",
       "    <tr>\n",
       "      <th>2353</th>\n",
       "      <td>01/01/2017</td>\n",
       "      <td>2</td>\n",
       "      <td>744.36</td>\n",
       "    </tr>\n",
       "    <tr>\n",
       "      <th>2354</th>\n",
       "      <td>01/01/2017</td>\n",
       "      <td>3</td>\n",
       "      <td>654.01</td>\n",
       "    </tr>\n",
       "    <tr>\n",
       "      <th>2355</th>\n",
       "      <td>01/01/2017</td>\n",
       "      <td>4</td>\n",
       "      <td>628.52</td>\n",
       "    </tr>\n",
       "    <tr>\n",
       "      <th>2356</th>\n",
       "      <td>01/01/2017</td>\n",
       "      <td>5</td>\n",
       "      <td>614.05</td>\n",
       "    </tr>\n",
       "  </tbody>\n",
       "</table>\n",
       "</div>"
      ],
      "text/plain": [
       "           Fecha  Hora  Precio Zonal  ($/MWh)\n",
       "2352  01/01/2017     1                 750.18\n",
       "2353  01/01/2017     2                 744.36\n",
       "2354  01/01/2017     3                 654.01\n",
       "2355  01/01/2017     4                 628.52\n",
       "2356  01/01/2017     5                 614.05"
      ]
     },
     "execution_count": 8,
     "metadata": {},
     "output_type": "execute_result"
    }
   ],
   "source": [
    "dfFilt17 = dfZona17[['Fecha','Hora', 'Precio Zonal  ($/MWh)']]\n",
    "dfFilt18 = dfZona18[['Fecha','Hora', 'Precio Zonal  ($/MWh)']]\n",
    "dfFilt17.head()"
   ]
  },
  {
   "cell_type": "code",
   "execution_count": 9,
   "metadata": {},
   "outputs": [
    {
     "data": {
      "text/html": [
       "<div>\n",
       "<style scoped>\n",
       "    .dataframe tbody tr th:only-of-type {\n",
       "        vertical-align: middle;\n",
       "    }\n",
       "\n",
       "    .dataframe tbody tr th {\n",
       "        vertical-align: top;\n",
       "    }\n",
       "\n",
       "    .dataframe thead th {\n",
       "        text-align: right;\n",
       "    }\n",
       "</style>\n",
       "<table border=\"1\" class=\"dataframe\">\n",
       "  <thead>\n",
       "    <tr style=\"text-align: right;\">\n",
       "      <th></th>\n",
       "      <th>Fecha</th>\n",
       "      <th>Hora</th>\n",
       "      <th>Precio Zonal  ($/MWh)</th>\n",
       "    </tr>\n",
       "  </thead>\n",
       "  <tbody>\n",
       "    <tr>\n",
       "      <th>2352</th>\n",
       "      <td>01/01/2018</td>\n",
       "      <td>1</td>\n",
       "      <td>645.20</td>\n",
       "    </tr>\n",
       "    <tr>\n",
       "      <th>2353</th>\n",
       "      <td>01/01/2018</td>\n",
       "      <td>2</td>\n",
       "      <td>618.09</td>\n",
       "    </tr>\n",
       "    <tr>\n",
       "      <th>2354</th>\n",
       "      <td>01/01/2018</td>\n",
       "      <td>3</td>\n",
       "      <td>612.78</td>\n",
       "    </tr>\n",
       "    <tr>\n",
       "      <th>2355</th>\n",
       "      <td>01/01/2018</td>\n",
       "      <td>4</td>\n",
       "      <td>589.45</td>\n",
       "    </tr>\n",
       "    <tr>\n",
       "      <th>2356</th>\n",
       "      <td>01/01/2018</td>\n",
       "      <td>5</td>\n",
       "      <td>553.87</td>\n",
       "    </tr>\n",
       "  </tbody>\n",
       "</table>\n",
       "</div>"
      ],
      "text/plain": [
       "           Fecha  Hora  Precio Zonal  ($/MWh)\n",
       "2352  01/01/2018     1                 645.20\n",
       "2353  01/01/2018     2                 618.09\n",
       "2354  01/01/2018     3                 612.78\n",
       "2355  01/01/2018     4                 589.45\n",
       "2356  01/01/2018     5                 553.87"
      ]
     },
     "execution_count": 9,
     "metadata": {},
     "output_type": "execute_result"
    }
   ],
   "source": [
    "dfFilt18.head()"
   ]
  },
  {
   "cell_type": "markdown",
   "metadata": {},
   "source": [
    "Valores de entrenamiento y de test (para entrenamiento se utilizo la tabla de 2017 y para test la de 2018)"
   ]
  },
  {
   "cell_type": "code",
   "execution_count": 10,
   "metadata": {},
   "outputs": [],
   "source": [
    "df_x_train = dfFilt17[['Hora']]\n",
    "df_y_train = dfFilt17[['Precio Zonal  ($/MWh)']]\n",
    "\n",
    "df_x_test = dfFilt18[['Hora']]\n",
    "df_y_test = dfFilt18[['Precio Zonal  ($/MWh)']]"
   ]
  },
  {
   "cell_type": "markdown",
   "metadata": {},
   "source": [
    "Regresión Lineal"
   ]
  },
  {
   "cell_type": "code",
   "execution_count": 12,
   "metadata": {},
   "outputs": [
    {
     "name": "stdout",
     "output_type": "stream",
     "text": [
      "Coefficients: \n",
      " [[26.77172132]]\n",
      "Mean squared error: 711461.54\n",
      "Variance score: -0.26\n"
     ]
    }
   ],
   "source": [
    "regr = linear_model.LinearRegression()\n",
    "regr.fit(df_x_train, df_y_train)\n",
    "df_y_pred = regr.predict(df_x_test)\n",
    "# The coefficients\n",
    "print('Coefficients: \\n', regr.coef_)\n",
    "# The mean squared error\n",
    "print(\"Mean squared error: %.2f\"\n",
    "      % mean_squared_error(df_y_test, df_y_pred))\n",
    "# Explained variance score: 1 is perfect prediction\n",
    "print('Variance score: %.2f' % r2_score(df_y_test, df_y_pred))"
   ]
  },
  {
   "cell_type": "markdown",
   "metadata": {},
   "source": [
    "Gráfica resultante"
   ]
  },
  {
   "cell_type": "code",
   "execution_count": 13,
   "metadata": {},
   "outputs": [
    {
     "data": {
      "image/png": "[encoded data removed]",
      "text/plain": [
       "<Figure size 432x288 with 1 Axes>"
      ]
     },
     "metadata": {
      "needs_background": "light"
     },
     "output_type": "display_data"
    }
   ],
   "source": [
    "plt.scatter(df_x_test, df_y_test,  color='black')\n",
    "plt.plot(df_x_test, df_y_pred, color='blue', linewidth=3)\n",
    "plt.show()"
   ]
  },
  {
   "cell_type": "markdown",
   "metadata": {},
   "source": [
    "Boxplot del precio zonal y la hora."
   ]
  },
  {
   "cell_type": "code",
   "execution_count": 14,
   "metadata": {},
   "outputs": [
    {
     "data": {
      "image/png": "[encoded data removed]",
      "text/plain": [
       "<Figure size 864x576 with 1 Axes>"
      ]
     },
     "metadata": {
      "needs_background": "light"
     },
     "output_type": "display_data"
    }
   ],
   "source": [
    "data = dfFilt17\n",
    "data.boxplot('Precio Zonal  ($/MWh)', by= 'Hora', figsize=(12,8))\n",
    "\n",
    "plt.show()"
   ]
  },
  {
   "cell_type": "markdown",
   "metadata": {},
   "source": [
    "## Regresión Lineal (Sin zona)"
   ]
  },
  {
   "cell_type": "markdown",
   "metadata": {},
   "source": [
    "Se realiza una nueva lectura de los datos para tratar de evitar errores."
   ]
  },
  {
   "cell_type": "code",
   "execution_count": 15,
   "metadata": {},
   "outputs": [],
   "source": [
    "dfL2017 = pd.read_csv(\"Datos2017.csv\", engine='python')\n",
    "dfL2018 = pd.read_csv(\"Datos2018.csv\", engine = 'python')"
   ]
  },
  {
   "cell_type": "markdown",
   "metadata": {},
   "source": [
    "Se filtran las columnas que corresponden a las variables dependientes e independientes."
   ]
  },
  {
   "cell_type": "code",
   "execution_count": 17,
   "metadata": {},
   "outputs": [
    {
     "data": {
      "text/html": [
       "<div>\n",
       "<style scoped>\n",
       "    .dataframe tbody tr th:only-of-type {\n",
       "        vertical-align: middle;\n",
       "    }\n",
       "\n",
       "    .dataframe tbody tr th {\n",
       "        vertical-align: top;\n",
       "    }\n",
       "\n",
       "    .dataframe thead th {\n",
       "        text-align: right;\n",
       "    }\n",
       "</style>\n",
       "<table border=\"1\" class=\"dataframe\">\n",
       "  <thead>\n",
       "    <tr style=\"text-align: right;\">\n",
       "      <th></th>\n",
       "      <th>Fecha</th>\n",
       "      <th>Hora</th>\n",
       "      <th>Precio Zonal  ($/MWh)</th>\n",
       "    </tr>\n",
       "  </thead>\n",
       "  <tbody>\n",
       "    <tr>\n",
       "      <th>0</th>\n",
       "      <td>01/01/2017</td>\n",
       "      <td>1</td>\n",
       "      <td>1010.09</td>\n",
       "    </tr>\n",
       "    <tr>\n",
       "      <th>1</th>\n",
       "      <td>01/01/2017</td>\n",
       "      <td>2</td>\n",
       "      <td>809.93</td>\n",
       "    </tr>\n",
       "    <tr>\n",
       "      <th>2</th>\n",
       "      <td>01/01/2017</td>\n",
       "      <td>3</td>\n",
       "      <td>707.82</td>\n",
       "    </tr>\n",
       "    <tr>\n",
       "      <th>3</th>\n",
       "      <td>01/01/2017</td>\n",
       "      <td>4</td>\n",
       "      <td>675.76</td>\n",
       "    </tr>\n",
       "    <tr>\n",
       "      <th>4</th>\n",
       "      <td>01/01/2017</td>\n",
       "      <td>5</td>\n",
       "      <td>659.99</td>\n",
       "    </tr>\n",
       "  </tbody>\n",
       "</table>\n",
       "</div>"
      ],
      "text/plain": [
       "        Fecha  Hora  Precio Zonal  ($/MWh)\n",
       "0  01/01/2017     1                1010.09\n",
       "1  01/01/2017     2                 809.93\n",
       "2  01/01/2017     3                 707.82\n",
       "3  01/01/2017     4                 675.76\n",
       "4  01/01/2017     5                 659.99"
      ]
     },
     "execution_count": 17,
     "metadata": {},
     "output_type": "execute_result"
    }
   ],
   "source": [
    "dfLFilt17 = df2017[['Fecha','Hora', 'Precio Zonal  ($/MWh)']]\n",
    "dfLFilt18 = df2018[['Fecha','Hora', 'Precio Zonal  ($/MWh)']]\n",
    "dfLFilt17.head()"
   ]
  },
  {
   "cell_type": "code",
   "execution_count": 18,
   "metadata": {},
   "outputs": [
    {
     "data": {
      "text/html": [
       "<div>\n",
       "<style scoped>\n",
       "    .dataframe tbody tr th:only-of-type {\n",
       "        vertical-align: middle;\n",
       "    }\n",
       "\n",
       "    .dataframe tbody tr th {\n",
       "        vertical-align: top;\n",
       "    }\n",
       "\n",
       "    .dataframe thead th {\n",
       "        text-align: right;\n",
       "    }\n",
       "</style>\n",
       "<table border=\"1\" class=\"dataframe\">\n",
       "  <thead>\n",
       "    <tr style=\"text-align: right;\">\n",
       "      <th></th>\n",
       "      <th>Fecha</th>\n",
       "      <th>Hora</th>\n",
       "      <th>Precio Zonal  ($/MWh)</th>\n",
       "    </tr>\n",
       "  </thead>\n",
       "  <tbody>\n",
       "    <tr>\n",
       "      <th>0</th>\n",
       "      <td>01/01/2018</td>\n",
       "      <td>1</td>\n",
       "      <td>685.78</td>\n",
       "    </tr>\n",
       "    <tr>\n",
       "      <th>1</th>\n",
       "      <td>01/01/2018</td>\n",
       "      <td>2</td>\n",
       "      <td>656.15</td>\n",
       "    </tr>\n",
       "    <tr>\n",
       "      <th>2</th>\n",
       "      <td>01/01/2018</td>\n",
       "      <td>3</td>\n",
       "      <td>648.10</td>\n",
       "    </tr>\n",
       "    <tr>\n",
       "      <th>3</th>\n",
       "      <td>01/01/2018</td>\n",
       "      <td>4</td>\n",
       "      <td>622.45</td>\n",
       "    </tr>\n",
       "    <tr>\n",
       "      <th>4</th>\n",
       "      <td>01/01/2018</td>\n",
       "      <td>5</td>\n",
       "      <td>585.41</td>\n",
       "    </tr>\n",
       "  </tbody>\n",
       "</table>\n",
       "</div>"
      ],
      "text/plain": [
       "        Fecha  Hora  Precio Zonal  ($/MWh)\n",
       "0  01/01/2018     1                 685.78\n",
       "1  01/01/2018     2                 656.15\n",
       "2  01/01/2018     3                 648.10\n",
       "3  01/01/2018     4                 622.45\n",
       "4  01/01/2018     5                 585.41"
      ]
     },
     "execution_count": 18,
     "metadata": {},
     "output_type": "execute_result"
    }
   ],
   "source": [
    "dfLFilt18.head()"
   ]
  },
  {
   "cell_type": "markdown",
   "metadata": {},
   "source": [
    "Selección de los conjuntos de entrenamiento y prueba. En donde se entrenará con los datos del 2017 y se prueba con 2018."
   ]
  },
  {
   "cell_type": "code",
   "execution_count": 21,
   "metadata": {},
   "outputs": [],
   "source": [
    "df_x_train = dfLFilt17[['Hora']]\n",
    "df_y_train = dfLFilt17[['Precio Zonal  ($/MWh)']]\n",
    "\n",
    "df_x_test = dfLFilt18[['Hora']]\n",
    "df_y_test = dfLFilt18[['Precio Zonal  ($/MWh)']]"
   ]
  },
  {
   "cell_type": "markdown",
   "metadata": {},
   "source": [
    "Regresión lineal: "
   ]
  },
  {
   "cell_type": "code",
   "execution_count": 22,
   "metadata": {},
   "outputs": [
    {
     "name": "stdout",
     "output_type": "stream",
     "text": [
      "Coefficients: \n",
      " [[26.80521144]]\n",
      "Mean squared error: 1078372.41\n",
      "Variance score: -0.20\n"
     ]
    }
   ],
   "source": [
    "regr = linear_model.LinearRegression()\n",
    "regr.fit(df_x_train, df_y_train)\n",
    "df_y_pred = regr.predict(df_x_test)\n",
    "\n",
    "# The coefficients\n",
    "print('Coefficients: \\n', regr.coef_)\n",
    "# The mean squared error\n",
    "print(\"Mean squared error: %.2f\"\n",
    "      % mean_squared_error(df_y_test, df_y_pred))\n",
    "# Explained variance score: 1 is perfect prediction\n",
    "print('Variance score: %.2f' % r2_score(df_y_test, df_y_pred))"
   ]
  },
  {
   "cell_type": "markdown",
   "metadata": {},
   "source": [
    "Resultando en la siguientes gráficas: "
   ]
  },
  {
   "cell_type": "code",
   "execution_count": 23,
   "metadata": {},
   "outputs": [
    {
     "data": {
      "image/png": "[encoded data removed]",
      "text/plain": [
       "<Figure size 432x288 with 1 Axes>"
      ]
     },
     "metadata": {
      "needs_background": "light"
     },
     "output_type": "display_data"
    },
    {
     "data": {
      "text/plain": [
       "<matplotlib.axes._subplots.AxesSubplot at 0x2597e067fd0>"
      ]
     },
     "execution_count": 23,
     "metadata": {},
     "output_type": "execute_result"
    },
    {
     "data": {
      "image/png": "[encoded data removed]",
      "text/plain": [
       "<Figure size 864x576 with 1 Axes>"
      ]
     },
     "metadata": {
      "needs_background": "light"
     },
     "output_type": "display_data"
    }
   ],
   "source": [
    "# Plot outputs\n",
    "plt.scatter(df_x_test, df_y_test,  color='black')\n",
    "plt.plot(df_x_test, df_y_pred, color='blue', linewidth=3)\n",
    "plt.show()\n",
    "\n",
    "#graficar box plot\n",
    "data = dfFilt17\n",
    "data.boxplot('Precio Zonal  ($/MWh)', by= 'Hora', figsize=(12,8))"
   ]
  },
  {
   "cell_type": "markdown",
   "metadata": {},
   "source": [
    "## Regresión Multivariable Con Zona (Hora y Día)"
   ]
  },
  {
   "cell_type": "markdown",
   "metadata": {},
   "source": [
    "Librerías necesarias"
   ]
  },
  {
   "cell_type": "code",
   "execution_count": 36,
   "metadata": {},
   "outputs": [],
   "source": [
    "from datetime import date\n",
    "from datetime import datetime as dt\n",
    "import statsmodels.api as sm"
   ]
  },
  {
   "cell_type": "markdown",
   "metadata": {},
   "source": [
    "Nueva lectura de datos"
   ]
  },
  {
   "cell_type": "code",
   "execution_count": 24,
   "metadata": {},
   "outputs": [],
   "source": [
    "df2017m2 = pd.read_csv(\"Datos2017.csv\", engine='python')\n",
    "df2018m2 = pd.read_csv(\"Datos2018.csv\", engine = 'python')"
   ]
  },
  {
   "cell_type": "markdown",
   "metadata": {},
   "source": [
    "Se concatenaron las tablas para no estar manejando todo el doble."
   ]
  },
  {
   "cell_type": "code",
   "execution_count": 27,
   "metadata": {},
   "outputs": [],
   "source": [
    "frames = [df2017, df2018]\n",
    "df1718m2 = pd.concat(frames)"
   ]
  },
  {
   "cell_type": "markdown",
   "metadata": {},
   "source": [
    "Filtrado de los datos por zona y columnas que necesitamos"
   ]
  },
  {
   "cell_type": "code",
   "execution_count": 28,
   "metadata": {},
   "outputs": [
    {
     "data": {
      "text/html": [
       "<div>\n",
       "<style scoped>\n",
       "    .dataframe tbody tr th:only-of-type {\n",
       "        vertical-align: middle;\n",
       "    }\n",
       "\n",
       "    .dataframe tbody tr th {\n",
       "        vertical-align: top;\n",
       "    }\n",
       "\n",
       "    .dataframe thead th {\n",
       "        text-align: right;\n",
       "    }\n",
       "</style>\n",
       "<table border=\"1\" class=\"dataframe\">\n",
       "  <thead>\n",
       "    <tr style=\"text-align: right;\">\n",
       "      <th></th>\n",
       "      <th>Fecha</th>\n",
       "      <th>Hora</th>\n",
       "      <th>Precio Zonal  ($/MWh)</th>\n",
       "    </tr>\n",
       "  </thead>\n",
       "  <tbody>\n",
       "    <tr>\n",
       "      <th>2352</th>\n",
       "      <td>01/01/2017</td>\n",
       "      <td>1</td>\n",
       "      <td>750.18</td>\n",
       "    </tr>\n",
       "    <tr>\n",
       "      <th>2353</th>\n",
       "      <td>01/01/2017</td>\n",
       "      <td>2</td>\n",
       "      <td>744.36</td>\n",
       "    </tr>\n",
       "    <tr>\n",
       "      <th>2354</th>\n",
       "      <td>01/01/2017</td>\n",
       "      <td>3</td>\n",
       "      <td>654.01</td>\n",
       "    </tr>\n",
       "    <tr>\n",
       "      <th>2355</th>\n",
       "      <td>01/01/2017</td>\n",
       "      <td>4</td>\n",
       "      <td>628.52</td>\n",
       "    </tr>\n",
       "    <tr>\n",
       "      <th>2356</th>\n",
       "      <td>01/01/2017</td>\n",
       "      <td>5</td>\n",
       "      <td>614.05</td>\n",
       "    </tr>\n",
       "  </tbody>\n",
       "</table>\n",
       "</div>"
      ],
      "text/plain": [
       "           Fecha  Hora  Precio Zonal  ($/MWh)\n",
       "2352  01/01/2017     1                 750.18\n",
       "2353  01/01/2017     2                 744.36\n",
       "2354  01/01/2017     3                 654.01\n",
       "2355  01/01/2017     4                 628.52\n",
       "2356  01/01/2017     5                 614.05"
      ]
     },
     "execution_count": 28,
     "metadata": {},
     "output_type": "execute_result"
    }
   ],
   "source": [
    "zona = 'ZAMORA'\n",
    "dfZona1718m2 = df1718m2[df1718['Zona de Carga'].isin([zona])]\n",
    "\n",
    "dfFiltm2 = dfZona1718m2[['Fecha','Hora', 'Precio Zonal  ($/MWh)']]\n",
    "dfFiltm2.head()"
   ]
  },
  {
   "cell_type": "markdown",
   "metadata": {},
   "source": [
    "Añadimos los valores de días a la tabla para hacer la regresión. Reseteamos los indices para no tener problemas después de la concatenación de la tabla."
   ]
  },
  {
   "cell_type": "code",
   "execution_count": 31,
   "metadata": {},
   "outputs": [
    {
     "data": {
      "text/html": [
       "<div>\n",
       "<style scoped>\n",
       "    .dataframe tbody tr th:only-of-type {\n",
       "        vertical-align: middle;\n",
       "    }\n",
       "\n",
       "    .dataframe tbody tr th {\n",
       "        vertical-align: top;\n",
       "    }\n",
       "\n",
       "    .dataframe thead th {\n",
       "        text-align: right;\n",
       "    }\n",
       "</style>\n",
       "<table border=\"1\" class=\"dataframe\">\n",
       "  <thead>\n",
       "    <tr style=\"text-align: right;\">\n",
       "      <th></th>\n",
       "      <th>Fecha</th>\n",
       "      <th>Hora</th>\n",
       "      <th>Precio Zonal  ($/MWh)</th>\n",
       "      <th>Dia</th>\n",
       "    </tr>\n",
       "  </thead>\n",
       "  <tbody>\n",
       "    <tr>\n",
       "      <th>0</th>\n",
       "      <td>01/01/2017</td>\n",
       "      <td>1</td>\n",
       "      <td>750.18</td>\n",
       "      <td>7</td>\n",
       "    </tr>\n",
       "    <tr>\n",
       "      <th>1</th>\n",
       "      <td>01/01/2017</td>\n",
       "      <td>2</td>\n",
       "      <td>744.36</td>\n",
       "      <td>7</td>\n",
       "    </tr>\n",
       "    <tr>\n",
       "      <th>2</th>\n",
       "      <td>01/01/2017</td>\n",
       "      <td>3</td>\n",
       "      <td>654.01</td>\n",
       "      <td>7</td>\n",
       "    </tr>\n",
       "    <tr>\n",
       "      <th>3</th>\n",
       "      <td>01/01/2017</td>\n",
       "      <td>4</td>\n",
       "      <td>628.52</td>\n",
       "      <td>7</td>\n",
       "    </tr>\n",
       "    <tr>\n",
       "      <th>4</th>\n",
       "      <td>01/01/2017</td>\n",
       "      <td>5</td>\n",
       "      <td>614.05</td>\n",
       "      <td>7</td>\n",
       "    </tr>\n",
       "  </tbody>\n",
       "</table>\n",
       "</div>"
      ],
      "text/plain": [
       "        Fecha  Hora  Precio Zonal  ($/MWh)  Dia\n",
       "0  01/01/2017     1                 750.18    7\n",
       "1  01/01/2017     2                 744.36    7\n",
       "2  01/01/2017     3                 654.01    7\n",
       "3  01/01/2017     4                 628.52    7\n",
       "4  01/01/2017     5                 614.05    7"
      ]
     },
     "execution_count": 31,
     "metadata": {},
     "output_type": "execute_result"
    }
   ],
   "source": [
    "dfFiltm2 = dfFiltm2.reset_index(drop= True)\n",
    "dia=[] #serie donde coloco todo lo que voy a adicionar en la columna\n",
    "\n",
    "for index,row in dfFiltm2.iterrows():\n",
    "    dia.append(date.isoweekday(dt.strptime(row['Fecha'],'%d/%m/%Y')))\n",
    "#https://pandas.pydata.org/pandas-docs/stable/merging.html\n",
    "sdia=pd.Series(dia, name='Dia') \n",
    "dfFiltm2 = pd.concat([dfFiltm2, sdia], axis=1)\n",
    "dfFiltm2.head()"
   ]
  },
  {
   "cell_type": "markdown",
   "metadata": {},
   "source": [
    "Selección de datos para entrenamiento y testing"
   ]
  },
  {
   "cell_type": "code",
   "execution_count": 32,
   "metadata": {},
   "outputs": [
    {
     "name": "stdout",
     "output_type": "stream",
     "text": [
      "Coefficients: \n",
      " [[ 26.77205889 -47.36503495]]\n",
      "Mean squared error: 691395.85\n",
      "Variance score: -0.22\n"
     ]
    }
   ],
   "source": [
    "df_xm2 = dfFiltm2[['Hora', 'Dia']]\n",
    "df_ym2 = dfFiltm2[['Precio Zonal  ($/MWh)']]\n",
    "\n",
    "df_x_trainm2 = df_xm2[:8760]\n",
    "df_x_testm2 = df_xm2[8760:]\n",
    "\n",
    "df_y_trainm2 = df_ym2[:8760]\n",
    "df_y_testm2 = df_ym2[8760:]\n",
    "\n",
    "regr = linear_model.LinearRegression()\n",
    "regr.fit(df_x_trainm2, df_y_trainm2)\n",
    "df_y_predm2 = regr.predict(df_x_testm2)\n",
    "\n",
    "print('Coefficients: \\n', regr.coef_)\n",
    "# The mean squared error\n",
    "print(\"Mean squared error: %.2f\"\n",
    "      % mean_squared_error(df_y_testm2, df_y_predm2))\n",
    "# Explained variance score: 1 is perfect prediction\n",
    "print('Variance score: %.2f' % r2_score(df_y_testm2, df_y_predm2))"
   ]
  },
  {
   "cell_type": "markdown",
   "metadata": {},
   "source": [
    "Gráfica resultante"
   ]
  },
  {
   "cell_type": "code",
   "execution_count": 34,
   "metadata": {},
   "outputs": [
    {
     "data": {
      "image/png": "[encoded data removed]",
      "text/plain": [
       "<Figure size 432x288 with 1 Axes>"
      ]
     },
     "metadata": {
      "needs_background": "light"
     },
     "output_type": "display_data"
    }
   ],
   "source": [
    "plt.scatter(range(0,120), df_y_testm2[:120], color = 'black')\n",
    "plt.scatter(range(0,120), df_y_predm2[:120], color = 'red')\n",
    "plt.show()"
   ]
  },
  {
   "cell_type": "markdown",
   "metadata": {},
   "source": [
    "Usando la librería de statsmodels"
   ]
  },
  {
   "cell_type": "code",
   "execution_count": 41,
   "metadata": {},
   "outputs": [
    {
     "name": "stdout",
     "output_type": "stream",
     "text": [
      "                              OLS Regression Results                             \n",
      "=================================================================================\n",
      "Dep. Variable:     Precio Zonal  ($/MWh)   R-squared:                       0.123\n",
      "Model:                               OLS   Adj. R-squared:                  0.123\n",
      "Method:                    Least Squares   F-statistic:                     613.9\n",
      "Date:                   Mon, 26 Nov 2018   Prob (F-statistic):          3.03e-250\n",
      "Time:                           14:35:45   Log-Likelihood:                -67800.\n",
      "No. Observations:                   8760   AIC:                         1.356e+05\n",
      "Df Residuals:                       8757   BIC:                         1.356e+05\n",
      "Df Model:                              2                                         \n",
      "Covariance Type:               nonrobust                                         \n",
      "==============================================================================\n",
      "                 coef    std err          t      P>|t|      [0.025      0.975]\n",
      "------------------------------------------------------------------------------\n",
      "const       1106.3401     17.080     64.773      0.000    1072.859    1139.821\n",
      "Hora          26.7721      0.858     31.190      0.000      25.090      28.455\n",
      "Dia          -47.3650      2.966    -15.970      0.000     -53.179     -41.551\n",
      "==============================================================================\n",
      "Omnibus:                     4945.635   Durbin-Watson:                   0.191\n",
      "Prob(Omnibus):                  0.000   Jarque-Bera (JB):            49642.132\n",
      "Skew:                           2.556   Prob(JB):                         0.00\n",
      "Kurtosis:                      13.482   Cond. No.                         42.7\n",
      "==============================================================================\n",
      "\n",
      "Warnings:\n",
      "[1] Standard Errors assume that the covariance matrix of the errors is correctly specified.\n"
     ]
    }
   ],
   "source": [
    "df_x_trainm2 = sm.add_constant(df_x_trainm2)\n",
    "df_x_testm2 = sm.add_constant(df_x_testm2)\n",
    "\n",
    "model = sm.OLS(df_y_trainm2, df_x_trainm2).fit()\n",
    "predictions = model.predict(df_x_testm2)\n",
    "\n",
    "summ = model.summary()\n",
    "print(summ)"
   ]
  },
  {
   "cell_type": "code",
   "execution_count": null,
   "metadata": {},
   "outputs": [],
   "source": []
  }
 ],
 "metadata": {
  "kernelspec": {
   "display_name": "Python 3",
   "language": "python",
   "name": "python3"
  },
  "language_info": {
   "codemirror_mode": {
    "name": "ipython",
    "version": 3
   },
   "file_extension": ".py",
   "mimetype": "text/x-python",
   "name": "python",
   "nbconvert_exporter": "python",
   "pygments_lexer": "ipython3",
   "version": "3.7.0"
  }
 },
 "nbformat": 4,
 "nbformat_minor": 2
}
