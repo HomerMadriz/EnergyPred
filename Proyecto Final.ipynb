{
 "cells": [
  {
   "cell_type": "markdown",
   "metadata": {},
   "source": [
    "Carga de Archivo que contiene los precios de energia en función del tiempo. "
   ]
  },
  {
   "cell_type": "code",
   "execution_count": 8,
   "metadata": {},
   "outputs": [
    {
     "name": "stdout",
     "output_type": "stream",
     "text": [
      "        Fecha  Hora Zona de Carga  Precio Zonal  ($/MWh)  \\\n",
      "0  01/08/2018     1      ACAPULCO                2330.35   \n",
      "1  01/08/2018     2      ACAPULCO                2263.94   \n",
      "2  01/08/2018     3      ACAPULCO                2254.70   \n",
      "3  01/08/2018     4      ACAPULCO                2225.97   \n",
      "4  01/08/2018     5      ACAPULCO                2217.15   \n",
      "\n",
      "   Componente energia  ($/MWh)  Componente perdidas  ($/MWh)  \\\n",
      "0                      2136.01                        194.34   \n",
      "1                      2070.88                        193.07   \n",
      "2                      2069.19                        185.50   \n",
      "3                      2047.95                        178.01   \n",
      "4                      2048.59                        168.56   \n",
      "\n",
      "   Componente Congestion  ($/MWh)  \n",
      "0                             0.0  \n",
      "1                             0.0  \n",
      "2                             0.0  \n",
      "3                             0.0  \n",
      "4                             0.0  \n"
     ]
    }
   ],
   "source": [
    "import pandas as pd\n",
    "\n",
    "df = pd.read_csv(\"C:/Users/omar_/Documents/ITESO/5to Semestre/Programación Avanzada/Proyecto/PreciosEnergia.csv\", engine='python')\n",
    "print(df.head())"
   ]
  },
  {
   "cell_type": "markdown",
   "metadata": {},
   "source": [
    "Se filtra la zona."
   ]
  },
  {
   "cell_type": "code",
   "execution_count": 11,
   "metadata": {},
   "outputs": [
    {
     "name": "stdout",
     "output_type": "stream",
     "text": [
      "           Fecha  Hora Zona de Carga  Precio Zonal  ($/MWh)  \\\n",
      "2352  01/08/2018     1        ZAMORA                2213.43   \n",
      "2353  01/08/2018     2        ZAMORA                2155.19   \n",
      "2354  01/08/2018     3        ZAMORA                2153.89   \n",
      "2355  01/08/2018     4        ZAMORA                2140.44   \n",
      "2356  01/08/2018     5        ZAMORA                2147.76   \n",
      "\n",
      "      Componente energia  ($/MWh)  Componente perdidas  ($/MWh)  \\\n",
      "2352                      2136.01                         77.42   \n",
      "2353                      2070.88                         84.31   \n",
      "2354                      2069.19                         84.70   \n",
      "2355                      2047.95                         92.49   \n",
      "2356                      2048.59                         99.17   \n",
      "\n",
      "      Componente Congestion  ($/MWh)  \n",
      "2352                             0.0  \n",
      "2353                             0.0  \n",
      "2354                             0.0  \n",
      "2355                             0.0  \n",
      "2356                             0.0  \n"
     ]
    }
   ],
   "source": [
    "zona = 'ZAMORA'\n",
    "dfZona = df[df['Zona de Carga'].isin([zona])]\n",
    "print(dfZona.head())"
   ]
  },
  {
   "cell_type": "markdown",
   "metadata": {},
   "source": [
    "Como solo se necesitan las primeras 3 columnas para realizar la primera regresión lineal, se crea un nuevo DataFrame. "
   ]
  },
  {
   "cell_type": "code",
   "execution_count": 12,
   "metadata": {},
   "outputs": [
    {
     "name": "stdout",
     "output_type": "stream",
     "text": [
      "           Fecha  Hora  Precio Zonal  ($/MWh)\n",
      "2352  01/08/2018     1                2213.43\n",
      "2353  01/08/2018     2                2155.19\n",
      "2354  01/08/2018     3                2153.89\n",
      "2355  01/08/2018     4                2140.44\n",
      "2356  01/08/2018     5                2147.76\n"
     ]
    }
   ],
   "source": [
    "dfFiltrado = dfZona.loc[:,['Fecha','Hora', 'Precio Zonal  ($/MWh)']]\n",
    "print(dfFiltrado.head())"
   ]
  },
  {
   "cell_type": "markdown",
   "metadata": {},
   "source": [
    "Selección de variables dependientes e independientes."
   ]
  },
  {
   "cell_type": "code",
   "execution_count": 14,
   "metadata": {},
   "outputs": [],
   "source": [
    "df_x = dfFiltrado.loc[:, 'Hora']\n",
    "df_y = dfFiltrado.loc[:, 'Precio Zonal  ($/MWh)']"
   ]
  },
  {
   "cell_type": "markdown",
   "metadata": {},
   "source": [
    "Definición de set de entrenamiento y de pruebas tanto de variables dependientes como de independientes. Además se realiza un parse hacia dataframe ya que la función de regresión lineal recibe como parametros puros df. "
   ]
  },
  {
   "cell_type": "code",
   "execution_count": 15,
   "metadata": {},
   "outputs": [
    {
     "name": "stderr",
     "output_type": "stream",
     "text": [
      "C:\\Users\\omar_\\AppData\\Local\\Continuum\\anaconda3\\lib\\site-packages\\ipykernel_launcher.py:7: FutureWarning: Method .as_matrix will be removed in a future version. Use .values instead.\n",
      "  import sys\n",
      "C:\\Users\\omar_\\AppData\\Local\\Continuum\\anaconda3\\lib\\site-packages\\ipykernel_launcher.py:8: FutureWarning: Method .as_matrix will be removed in a future version. Use .values instead.\n",
      "  \n",
      "C:\\Users\\omar_\\AppData\\Local\\Continuum\\anaconda3\\lib\\site-packages\\ipykernel_launcher.py:9: FutureWarning: Method .as_matrix will be removed in a future version. Use .values instead.\n",
      "  if __name__ == '__main__':\n"
     ]
    }
   ],
   "source": [
    "df_x_train = df_x[:]\n",
    "df_x_test = df_x[:]\n",
    "\n",
    "df_y_train = df_y[:]\n",
    "df_y_test = df_y[:]\n",
    "\n",
    "df_x_train = df_x_train.as_matrix()\n",
    "df_x_test = df_x_test.as_matrix()\n",
    "df_y_train = df_y_train.as_matrix()\n",
    "\n",
    "df_x_train = df_x_train.reshape(-1,1)\n",
    "df_y_train = df_y_train.reshape(-1,1)\n",
    "df_x_test = df_x_test.reshape(-1,1)"
   ]
  },
  {
   "cell_type": "markdown",
   "metadata": {},
   "source": [
    "Ignorar el warning, todo estará bien ;)"
   ]
  },
  {
   "cell_type": "markdown",
   "metadata": {},
   "source": [
    "Importando la libreria de linear models de sklearn se realiza la regresión linear."
   ]
  },
  {
   "cell_type": "code",
   "execution_count": 16,
   "metadata": {},
   "outputs": [],
   "source": [
    "from sklearn import linear_model\n",
    "from sklearn.metrics import mean_squared_error, r2_score\n",
    "\n",
    "regr = linear_model.LinearRegression()\n",
    "regr.fit(df_x_train, df_y_train)\n",
    "df_y_pred = regr.predict(df_x_test)"
   ]
  },
  {
   "cell_type": "markdown",
   "metadata": {},
   "source": [
    "Se muestran los coeficientes de error y la varianza resultante."
   ]
  },
  {
   "cell_type": "code",
   "execution_count": 18,
   "metadata": {},
   "outputs": [
    {
     "name": "stdout",
     "output_type": "stream",
     "text": [
      "Coefficients: \n",
      " [[15.05311072]]\n",
      "Mean squared error: 132030.06\n",
      "Variance score: 0.08\n"
     ]
    }
   ],
   "source": [
    "# The coefficients\n",
    "print('Coefficients: \\n', regr.coef_)\n",
    "# The mean squared error\n",
    "print(\"Mean squared error: %.2f\"\n",
    "      % mean_squared_error(df_y_test, df_y_pred))\n",
    "# Explained variance score: 1 is perfect prediction\n",
    "print('Variance score: %.2f' % r2_score(df_y_test, df_y_pred))\n"
   ]
  },
  {
   "cell_type": "markdown",
   "metadata": {},
   "source": [
    "Se grafican los resultados utilizando la gráfica scatter y boxplot de matplotlib "
   ]
  },
  {
   "cell_type": "code",
   "execution_count": 21,
   "metadata": {},
   "outputs": [
    {
     "data": {
      "image/png": "[encoded data removed]",
      "text/plain": [
       "<Figure size 432x288 with 1 Axes>"
      ]
     },
     "metadata": {},
     "output_type": "display_data"
    },
    {
     "data": {
      "image/png": "[encoded data removed]",
      "text/plain": [
       "<Figure size 864x576 with 1 Axes>"
      ]
     },
     "metadata": {},
     "output_type": "display_data"
    }
   ],
   "source": [
    "import matplotlib.pyplot as plt\n",
    "\n",
    "# Plot outputs\n",
    "plt.scatter(df_x_test, df_y_test,  color='black')\n",
    "plt.plot(df_x_test, df_y_pred, color='blue', linewidth=3)\n",
    "plt.show()\n",
    "\n",
    "#graficar box plot\n",
    "data = dfFiltrado\n",
    "data.boxplot('Precio Zonal  ($/MWh)', by= 'Hora', figsize=(12,8))\n",
    "\n",
    "plt.show()"
   ]
  },
  {
   "cell_type": "code",
   "execution_count": null,
   "metadata": {},
   "outputs": [],
   "source": []
  }
 ],
 "metadata": {
  "kernelspec": {
   "display_name": "Python 3",
   "language": "python",
   "name": "python3"
  },
  "language_info": {
   "codemirror_mode": {
    "name": "ipython",
    "version": 3
   },
   "file_extension": ".py",
   "mimetype": "text/x-python",
   "name": "python",
   "nbconvert_exporter": "python",
   "pygments_lexer": "ipython3",
   "version": "3.6.5"
  }
 },
 "nbformat": 4,
 "nbformat_minor": 2
}
