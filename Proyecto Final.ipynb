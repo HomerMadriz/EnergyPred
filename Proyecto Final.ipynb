{
 "cells": [
  {
   "cell_type": "markdown",
   "metadata": {},
   "source": [
    "Carga de Archivo que contiene los precios de energia en función del tiempo. "
   ]
  },
  {
   "cell_type": "code",
   "execution_count": 4,
   "metadata": {},
   "outputs": [
    {
     "data": {
      "text/html": [
       "<div>\n",
       "<style scoped>\n",
       "    .dataframe tbody tr th:only-of-type {\n",
       "        vertical-align: middle;\n",
       "    }\n",
       "\n",
       "    .dataframe tbody tr th {\n",
       "        vertical-align: top;\n",
       "    }\n",
       "\n",
       "    .dataframe thead th {\n",
       "        text-align: right;\n",
       "    }\n",
       "</style>\n",
       "<table border=\"1\" class=\"dataframe\">\n",
       "  <thead>\n",
       "    <tr style=\"text-align: right;\">\n",
       "      <th></th>\n",
       "      <th>Fecha</th>\n",
       "      <th>Hora</th>\n",
       "      <th>Zona de Carga</th>\n",
       "      <th>Precio Zonal  ($/MWh)</th>\n",
       "      <th>Componente energia  ($/MWh)</th>\n",
       "      <th>Componente perdidas  ($/MWh)</th>\n",
       "      <th>Componente Congestion  ($/MWh)</th>\n",
       "    </tr>\n",
       "  </thead>\n",
       "  <tbody>\n",
       "    <tr>\n",
       "      <th>0</th>\n",
       "      <td>01/01/2018</td>\n",
       "      <td>1</td>\n",
       "      <td>ACAPULCO</td>\n",
       "      <td>685.78</td>\n",
       "      <td>620.61</td>\n",
       "      <td>65.17</td>\n",
       "      <td>0.0</td>\n",
       "    </tr>\n",
       "    <tr>\n",
       "      <th>1</th>\n",
       "      <td>01/01/2018</td>\n",
       "      <td>2</td>\n",
       "      <td>ACAPULCO</td>\n",
       "      <td>656.15</td>\n",
       "      <td>598.67</td>\n",
       "      <td>57.48</td>\n",
       "      <td>0.0</td>\n",
       "    </tr>\n",
       "    <tr>\n",
       "      <th>2</th>\n",
       "      <td>01/01/2018</td>\n",
       "      <td>3</td>\n",
       "      <td>ACAPULCO</td>\n",
       "      <td>648.10</td>\n",
       "      <td>593.70</td>\n",
       "      <td>54.40</td>\n",
       "      <td>0.0</td>\n",
       "    </tr>\n",
       "    <tr>\n",
       "      <th>3</th>\n",
       "      <td>01/01/2018</td>\n",
       "      <td>4</td>\n",
       "      <td>ACAPULCO</td>\n",
       "      <td>622.45</td>\n",
       "      <td>572.44</td>\n",
       "      <td>50.01</td>\n",
       "      <td>0.0</td>\n",
       "    </tr>\n",
       "    <tr>\n",
       "      <th>4</th>\n",
       "      <td>01/01/2018</td>\n",
       "      <td>5</td>\n",
       "      <td>ACAPULCO</td>\n",
       "      <td>585.41</td>\n",
       "      <td>541.02</td>\n",
       "      <td>44.40</td>\n",
       "      <td>0.0</td>\n",
       "    </tr>\n",
       "  </tbody>\n",
       "</table>\n",
       "</div>"
      ],
      "text/plain": [
       "        Fecha  Hora Zona de Carga  Precio Zonal  ($/MWh)  \\\n",
       "0  01/01/2018     1      ACAPULCO                 685.78   \n",
       "1  01/01/2018     2      ACAPULCO                 656.15   \n",
       "2  01/01/2018     3      ACAPULCO                 648.10   \n",
       "3  01/01/2018     4      ACAPULCO                 622.45   \n",
       "4  01/01/2018     5      ACAPULCO                 585.41   \n",
       "\n",
       "   Componente energia  ($/MWh)  Componente perdidas  ($/MWh)  \\\n",
       "0                       620.61                         65.17   \n",
       "1                       598.67                         57.48   \n",
       "2                       593.70                         54.40   \n",
       "3                       572.44                         50.01   \n",
       "4                       541.02                         44.40   \n",
       "\n",
       "   Componente Congestion  ($/MWh)  \n",
       "0                             0.0  \n",
       "1                             0.0  \n",
       "2                             0.0  \n",
       "3                             0.0  \n",
       "4                             0.0  "
      ]
     },
     "execution_count": 4,
     "metadata": {},
     "output_type": "execute_result"
    }
   ],
   "source": [
    "import pandas as pd\n",
    "\n",
    "df2017 = pd.read_csv(\"Datos2017.csv\", engine='python')\n",
    "df2018 = pd.read_csv(\"Datos2018.csv\", engine = 'python')\n",
    "df2017.head()\n",
    "df2018.head()"
   ]
  },
  {
   "cell_type": "markdown",
   "metadata": {},
   "source": [
    "Se filtra la zona."
   ]
  },
  {
   "cell_type": "code",
   "execution_count": 3,
   "metadata": {},
   "outputs": [
    {
     "data": {
      "text/html": [
       "<div>\n",
       "<style scoped>\n",
       "    .dataframe tbody tr th:only-of-type {\n",
       "        vertical-align: middle;\n",
       "    }\n",
       "\n",
       "    .dataframe tbody tr th {\n",
       "        vertical-align: top;\n",
       "    }\n",
       "\n",
       "    .dataframe thead th {\n",
       "        text-align: right;\n",
       "    }\n",
       "</style>\n",
       "<table border=\"1\" class=\"dataframe\">\n",
       "  <thead>\n",
       "    <tr style=\"text-align: right;\">\n",
       "      <th></th>\n",
       "      <th>Fecha</th>\n",
       "      <th>Hora</th>\n",
       "      <th>Zona de Carga</th>\n",
       "      <th>Precio Zonal  ($/MWh)</th>\n",
       "      <th>Componente energia  ($/MWh)</th>\n",
       "      <th>Componente perdidas  ($/MWh)</th>\n",
       "      <th>Componente Congestion  ($/MWh)</th>\n",
       "    </tr>\n",
       "  </thead>\n",
       "  <tbody>\n",
       "    <tr>\n",
       "      <th>2352</th>\n",
       "      <td>01/01/2018</td>\n",
       "      <td>1</td>\n",
       "      <td>ZAMORA</td>\n",
       "      <td>645.20</td>\n",
       "      <td>620.61</td>\n",
       "      <td>24.59</td>\n",
       "      <td>0.0</td>\n",
       "    </tr>\n",
       "    <tr>\n",
       "      <th>2353</th>\n",
       "      <td>01/01/2018</td>\n",
       "      <td>2</td>\n",
       "      <td>ZAMORA</td>\n",
       "      <td>618.09</td>\n",
       "      <td>598.67</td>\n",
       "      <td>19.42</td>\n",
       "      <td>0.0</td>\n",
       "    </tr>\n",
       "    <tr>\n",
       "      <th>2354</th>\n",
       "      <td>01/01/2018</td>\n",
       "      <td>3</td>\n",
       "      <td>ZAMORA</td>\n",
       "      <td>612.78</td>\n",
       "      <td>593.70</td>\n",
       "      <td>19.08</td>\n",
       "      <td>0.0</td>\n",
       "    </tr>\n",
       "    <tr>\n",
       "      <th>2355</th>\n",
       "      <td>01/01/2018</td>\n",
       "      <td>4</td>\n",
       "      <td>ZAMORA</td>\n",
       "      <td>589.45</td>\n",
       "      <td>572.44</td>\n",
       "      <td>17.01</td>\n",
       "      <td>0.0</td>\n",
       "    </tr>\n",
       "    <tr>\n",
       "      <th>2356</th>\n",
       "      <td>01/01/2018</td>\n",
       "      <td>5</td>\n",
       "      <td>ZAMORA</td>\n",
       "      <td>553.87</td>\n",
       "      <td>541.02</td>\n",
       "      <td>12.85</td>\n",
       "      <td>0.0</td>\n",
       "    </tr>\n",
       "  </tbody>\n",
       "</table>\n",
       "</div>"
      ],
      "text/plain": [
       "           Fecha  Hora Zona de Carga  Precio Zonal  ($/MWh)  \\\n",
       "2352  01/01/2018     1        ZAMORA                 645.20   \n",
       "2353  01/01/2018     2        ZAMORA                 618.09   \n",
       "2354  01/01/2018     3        ZAMORA                 612.78   \n",
       "2355  01/01/2018     4        ZAMORA                 589.45   \n",
       "2356  01/01/2018     5        ZAMORA                 553.87   \n",
       "\n",
       "      Componente energia  ($/MWh)  Componente perdidas  ($/MWh)  \\\n",
       "2352                       620.61                         24.59   \n",
       "2353                       598.67                         19.42   \n",
       "2354                       593.70                         19.08   \n",
       "2355                       572.44                         17.01   \n",
       "2356                       541.02                         12.85   \n",
       "\n",
       "      Componente Congestion  ($/MWh)  \n",
       "2352                             0.0  \n",
       "2353                             0.0  \n",
       "2354                             0.0  \n",
       "2355                             0.0  \n",
       "2356                             0.0  "
      ]
     },
     "execution_count": 3,
     "metadata": {},
     "output_type": "execute_result"
    }
   ],
   "source": [
    "zona = 'ZAMORA'\n",
    "dfZona17 = df2017[df2017['Zona de Carga'].isin([zona])]\n",
    "dfZona18 = df2018[df2018['Zona de Carga'].isin([zona])]\n",
    "dfZona17.head()\n",
    "dfZona18.head()"
   ]
  },
  {
   "cell_type": "markdown",
   "metadata": {},
   "source": [
    "Como solo se necesitan las primeras 3 columnas para realizar la primera regresión lineal, se crea un nuevo DataFrame. "
   ]
  },
  {
   "cell_type": "code",
   "execution_count": 5,
   "metadata": {},
   "outputs": [
    {
     "data": {
      "text/html": [
       "<div>\n",
       "<style scoped>\n",
       "    .dataframe tbody tr th:only-of-type {\n",
       "        vertical-align: middle;\n",
       "    }\n",
       "\n",
       "    .dataframe tbody tr th {\n",
       "        vertical-align: top;\n",
       "    }\n",
       "\n",
       "    .dataframe thead th {\n",
       "        text-align: right;\n",
       "    }\n",
       "</style>\n",
       "<table border=\"1\" class=\"dataframe\">\n",
       "  <thead>\n",
       "    <tr style=\"text-align: right;\">\n",
       "      <th></th>\n",
       "      <th>Fecha</th>\n",
       "      <th>Hora</th>\n",
       "      <th>Precio Zonal  ($/MWh)</th>\n",
       "    </tr>\n",
       "  </thead>\n",
       "  <tbody>\n",
       "    <tr>\n",
       "      <th>2352</th>\n",
       "      <td>01/01/2018</td>\n",
       "      <td>1</td>\n",
       "      <td>645.20</td>\n",
       "    </tr>\n",
       "    <tr>\n",
       "      <th>2353</th>\n",
       "      <td>01/01/2018</td>\n",
       "      <td>2</td>\n",
       "      <td>618.09</td>\n",
       "    </tr>\n",
       "    <tr>\n",
       "      <th>2354</th>\n",
       "      <td>01/01/2018</td>\n",
       "      <td>3</td>\n",
       "      <td>612.78</td>\n",
       "    </tr>\n",
       "    <tr>\n",
       "      <th>2355</th>\n",
       "      <td>01/01/2018</td>\n",
       "      <td>4</td>\n",
       "      <td>589.45</td>\n",
       "    </tr>\n",
       "    <tr>\n",
       "      <th>2356</th>\n",
       "      <td>01/01/2018</td>\n",
       "      <td>5</td>\n",
       "      <td>553.87</td>\n",
       "    </tr>\n",
       "  </tbody>\n",
       "</table>\n",
       "</div>"
      ],
      "text/plain": [
       "           Fecha  Hora  Precio Zonal  ($/MWh)\n",
       "2352  01/01/2018     1                 645.20\n",
       "2353  01/01/2018     2                 618.09\n",
       "2354  01/01/2018     3                 612.78\n",
       "2355  01/01/2018     4                 589.45\n",
       "2356  01/01/2018     5                 553.87"
      ]
     },
     "execution_count": 5,
     "metadata": {},
     "output_type": "execute_result"
    }
   ],
   "source": [
    "dfFilt17 = dfZona17[['Fecha','Hora', 'Precio Zonal  ($/MWh)']]\n",
    "dfFilt18 = dfZona18[['Fecha','Hora', 'Precio Zonal  ($/MWh)']]\n",
    "dfFilt17.head()\n",
    "dfFilt18.head()"
   ]
  },
  {
   "cell_type": "markdown",
   "metadata": {},
   "source": [
    "Selección de variables dependientes e independientes."
   ]
  },
  {
   "cell_type": "markdown",
   "metadata": {},
   "source": [
    "Definición de set de entrenamiento y de pruebas tanto de variables dependientes como de independientes. Además se realiza un parse hacia dataframe ya que la función de regresión lineal recibe como parametros puros df. "
   ]
  },
  {
   "cell_type": "code",
   "execution_count": 6,
   "metadata": {
    "scrolled": true
   },
   "outputs": [],
   "source": [
    "df_x_train = dfFilt17[['Hora']]\n",
    "df_y_train = dfFilt17[['Precio Zonal  ($/MWh)']]\n",
    "\n",
    "df_x_test = dfFilt18[['Hora']]\n",
    "df_y_test = dfFilt18[['Precio Zonal  ($/MWh)']]\n"
   ]
  },
  {
   "cell_type": "markdown",
   "metadata": {},
   "source": [
    "Importando la libreria de linear models de sklearn se realiza la regresión linear."
   ]
  },
  {
   "cell_type": "code",
   "execution_count": 7,
   "metadata": {},
   "outputs": [],
   "source": [
    "from sklearn import linear_model\n",
    "from sklearn.metrics import mean_squared_error, r2_score\n",
    "\n",
    "regr = linear_model.LinearRegression()\n",
    "regr.fit(df_x_train, df_y_train)\n",
    "df_y_pred = regr.predict(df_x_test)"
   ]
  },
  {
   "cell_type": "markdown",
   "metadata": {},
   "source": [
    "Se muestran los coeficientes de error y la varianza resultante."
   ]
  },
  {
   "cell_type": "code",
   "execution_count": 8,
   "metadata": {},
   "outputs": [
    {
     "name": "stdout",
     "output_type": "stream",
     "text": [
      "Coefficients: \n",
      " [[26.77172132]]\n",
      "Mean squared error: 711461.54\n",
      "Variance score: -0.26\n"
     ]
    }
   ],
   "source": [
    "# The coefficients\n",
    "print('Coefficients: \\n', regr.coef_)\n",
    "# The mean squared error\n",
    "print(\"Mean squared error: %.2f\"\n",
    "      % mean_squared_error(df_y_test, df_y_pred))\n",
    "# Explained variance score: 1 is perfect prediction\n",
    "print('Variance score: %.2f' % r2_score(df_y_test, df_y_pred))\n"
   ]
  },
  {
   "cell_type": "markdown",
   "metadata": {},
   "source": [
    "Se grafican los resultados utilizando la gráfica scatter y boxplot de matplotlib "
   ]
  },
  {
   "cell_type": "code",
   "execution_count": 10,
   "metadata": {},
   "outputs": [
    {
     "data": {
      "image/png": "[encoded data removed]",
      "text/plain": [
       "<Figure size 432x288 with 1 Axes>"
      ]
     },
     "metadata": {},
     "output_type": "display_data"
    },
    {
     "data": {
      "image/png": "[encoded data removed]",
      "text/plain": [
       "<Figure size 864x576 with 1 Axes>"
      ]
     },
     "metadata": {},
     "output_type": "display_data"
    }
   ],
   "source": [
    "import matplotlib.pyplot as plt\n",
    "\n",
    "# Plot outputs\n",
    "plt.scatter(df_x_test, df_y_test,  color='black')\n",
    "plt.plot(df_x_test, df_y_pred, color='blue', linewidth=3)\n",
    "plt.show()\n",
    "\n",
    "#graficar box plot\n",
    "data = dfFilt17\n",
    "data.boxplot('Precio Zonal  ($/MWh)', by= 'Hora', figsize=(12,8))\n",
    "\n",
    "plt.show()"
   ]
  },
  {
   "cell_type": "markdown",
   "metadata": {},
   "source": [
    "### Conclusión 1:\n",
    "\n",
    "Trás realizar una regresión lineal simple podemos darnos cuenta que utilizando una sola variable independiente no se realiza una predicción correcta, esto debido a que existe mucha dispersión en los datos, esto se puede apreciar en la parte inferior de los gráficos, en donde se notan puntos alejados de la regresión; por lo tanto será necesario agregar más variables a la predicción con el objetivo de ser más certeros. "
   ]
  },
  {
   "cell_type": "markdown",
   "metadata": {},
   "source": [
    "# Regresión Múltiple (Filtrado por zona)"
   ]
  },
  {
   "cell_type": "markdown",
   "metadata": {},
   "source": [
    "Para realizar la regresión multiple, y no repetir dos veces el proceso de transformar la fecha a valor númerico, se unieron las tablas de 2017 y 2018"
   ]
  },
  {
   "cell_type": "code",
   "execution_count": 11,
   "metadata": {},
   "outputs": [
    {
     "data": {
      "text/html": [
       "<div>\n",
       "<style scoped>\n",
       "    .dataframe tbody tr th:only-of-type {\n",
       "        vertical-align: middle;\n",
       "    }\n",
       "\n",
       "    .dataframe tbody tr th {\n",
       "        vertical-align: top;\n",
       "    }\n",
       "\n",
       "    .dataframe thead th {\n",
       "        text-align: right;\n",
       "    }\n",
       "</style>\n",
       "<table border=\"1\" class=\"dataframe\">\n",
       "  <thead>\n",
       "    <tr style=\"text-align: right;\">\n",
       "      <th></th>\n",
       "      <th>Fecha</th>\n",
       "      <th>Hora</th>\n",
       "      <th>Zona de Carga</th>\n",
       "      <th>Precio Zonal  ($/MWh)</th>\n",
       "      <th>Componente energia  ($/MWh)</th>\n",
       "      <th>Componente perdidas  ($/MWh)</th>\n",
       "      <th>Componente Congestion  ($/MWh)</th>\n",
       "    </tr>\n",
       "  </thead>\n",
       "  <tbody>\n",
       "    <tr>\n",
       "      <th>0</th>\n",
       "      <td>01/01/2017</td>\n",
       "      <td>1</td>\n",
       "      <td>ACAPULCO</td>\n",
       "      <td>1010.09</td>\n",
       "      <td>640.92</td>\n",
       "      <td>77.38</td>\n",
       "      <td>291.79</td>\n",
       "    </tr>\n",
       "    <tr>\n",
       "      <th>1</th>\n",
       "      <td>01/01/2017</td>\n",
       "      <td>2</td>\n",
       "      <td>ACAPULCO</td>\n",
       "      <td>809.93</td>\n",
       "      <td>724.95</td>\n",
       "      <td>84.98</td>\n",
       "      <td>0.00</td>\n",
       "    </tr>\n",
       "    <tr>\n",
       "      <th>2</th>\n",
       "      <td>01/01/2017</td>\n",
       "      <td>3</td>\n",
       "      <td>ACAPULCO</td>\n",
       "      <td>707.82</td>\n",
       "      <td>638.03</td>\n",
       "      <td>69.79</td>\n",
       "      <td>0.00</td>\n",
       "    </tr>\n",
       "    <tr>\n",
       "      <th>3</th>\n",
       "      <td>01/01/2017</td>\n",
       "      <td>4</td>\n",
       "      <td>ACAPULCO</td>\n",
       "      <td>675.76</td>\n",
       "      <td>612.79</td>\n",
       "      <td>62.97</td>\n",
       "      <td>0.00</td>\n",
       "    </tr>\n",
       "    <tr>\n",
       "      <th>4</th>\n",
       "      <td>01/01/2017</td>\n",
       "      <td>5</td>\n",
       "      <td>ACAPULCO</td>\n",
       "      <td>659.99</td>\n",
       "      <td>600.75</td>\n",
       "      <td>59.25</td>\n",
       "      <td>0.00</td>\n",
       "    </tr>\n",
       "  </tbody>\n",
       "</table>\n",
       "</div>"
      ],
      "text/plain": [
       "        Fecha  Hora Zona de Carga  Precio Zonal  ($/MWh)  \\\n",
       "0  01/01/2017     1      ACAPULCO                1010.09   \n",
       "1  01/01/2017     2      ACAPULCO                 809.93   \n",
       "2  01/01/2017     3      ACAPULCO                 707.82   \n",
       "3  01/01/2017     4      ACAPULCO                 675.76   \n",
       "4  01/01/2017     5      ACAPULCO                 659.99   \n",
       "\n",
       "   Componente energia  ($/MWh)  Componente perdidas  ($/MWh)  \\\n",
       "0                       640.92                         77.38   \n",
       "1                       724.95                         84.98   \n",
       "2                       638.03                         69.79   \n",
       "3                       612.79                         62.97   \n",
       "4                       600.75                         59.25   \n",
       "\n",
       "   Componente Congestion  ($/MWh)  \n",
       "0                          291.79  \n",
       "1                            0.00  \n",
       "2                            0.00  \n",
       "3                            0.00  \n",
       "4                            0.00  "
      ]
     },
     "execution_count": 11,
     "metadata": {},
     "output_type": "execute_result"
    }
   ],
   "source": [
    "frames = [df2017, df2018]\n",
    "df1718 = pd.concat(frames)\n",
    "df1718.head()"
   ]
  },
  {
   "cell_type": "markdown",
   "metadata": {},
   "source": [
    "Se filtra la nueva tabla creada"
   ]
  },
  {
   "cell_type": "code",
   "execution_count": 12,
   "metadata": {},
   "outputs": [
    {
     "data": {
      "text/html": [
       "<div>\n",
       "<style scoped>\n",
       "    .dataframe tbody tr th:only-of-type {\n",
       "        vertical-align: middle;\n",
       "    }\n",
       "\n",
       "    .dataframe tbody tr th {\n",
       "        vertical-align: top;\n",
       "    }\n",
       "\n",
       "    .dataframe thead th {\n",
       "        text-align: right;\n",
       "    }\n",
       "</style>\n",
       "<table border=\"1\" class=\"dataframe\">\n",
       "  <thead>\n",
       "    <tr style=\"text-align: right;\">\n",
       "      <th></th>\n",
       "      <th>Fecha</th>\n",
       "      <th>Hora</th>\n",
       "      <th>Precio Zonal  ($/MWh)</th>\n",
       "    </tr>\n",
       "  </thead>\n",
       "  <tbody>\n",
       "    <tr>\n",
       "      <th>2352</th>\n",
       "      <td>01/01/2017</td>\n",
       "      <td>1</td>\n",
       "      <td>750.18</td>\n",
       "    </tr>\n",
       "    <tr>\n",
       "      <th>2353</th>\n",
       "      <td>01/01/2017</td>\n",
       "      <td>2</td>\n",
       "      <td>744.36</td>\n",
       "    </tr>\n",
       "    <tr>\n",
       "      <th>2354</th>\n",
       "      <td>01/01/2017</td>\n",
       "      <td>3</td>\n",
       "      <td>654.01</td>\n",
       "    </tr>\n",
       "    <tr>\n",
       "      <th>2355</th>\n",
       "      <td>01/01/2017</td>\n",
       "      <td>4</td>\n",
       "      <td>628.52</td>\n",
       "    </tr>\n",
       "    <tr>\n",
       "      <th>2356</th>\n",
       "      <td>01/01/2017</td>\n",
       "      <td>5</td>\n",
       "      <td>614.05</td>\n",
       "    </tr>\n",
       "  </tbody>\n",
       "</table>\n",
       "</div>"
      ],
      "text/plain": [
       "           Fecha  Hora  Precio Zonal  ($/MWh)\n",
       "2352  01/01/2017     1                 750.18\n",
       "2353  01/01/2017     2                 744.36\n",
       "2354  01/01/2017     3                 654.01\n",
       "2355  01/01/2017     4                 628.52\n",
       "2356  01/01/2017     5                 614.05"
      ]
     },
     "execution_count": 12,
     "metadata": {},
     "output_type": "execute_result"
    }
   ],
   "source": [
    "zona = 'ZAMORA'\n",
    "dfZona1718 = df1718[df1718['Zona de Carga'].isin([zona])]\n",
    "\n",
    "dfFilt = dfZona1718[['Fecha','Hora', 'Precio Zonal  ($/MWh)']]\n",
    "dfFilt.head()"
   ]
  },
  {
   "cell_type": "markdown",
   "metadata": {},
   "source": [
    "Se agrega una columna día para normalizar la fecha y lograr adicionarla como variable independiente."
   ]
  },
  {
   "cell_type": "code",
   "execution_count": 13,
   "metadata": {},
   "outputs": [
    {
     "name": "stdout",
     "output_type": "stream",
     "text": [
      "        Fecha  Hora  Precio Zonal  ($/MWh)  Dia\n",
      "0  01/01/2017     1                 750.18    7\n",
      "1  01/01/2017     2                 744.36    7\n",
      "2  01/01/2017     3                 654.01    7\n",
      "3  01/01/2017     4                 628.52    7\n",
      "4  01/01/2017     5                 614.05    7\n"
     ]
    }
   ],
   "source": [
    "from datetime import date\n",
    "from datetime import datetime as dt\n",
    "\n",
    "dfFilt = dfFilt.reset_index(drop= True)\n",
    "dia=[] #serie donde coloco todo lo que voy a adicionar en la columna\n",
    "\n",
    "for index,row in dfFilt.iterrows():\n",
    "    dia.append(date.isoweekday(dt.strptime(row['Fecha'],'%d/%m/%Y')))\n",
    "#https://pandas.pydata.org/pandas-docs/stable/merging.html\n",
    "sdia=pd.Series(dia, name='Dia') \n",
    "dfFilt = pd.concat([dfFilt, sdia], axis=1)\n",
    "\n",
    "print(dfFilt.head())"
   ]
  },
  {
   "cell_type": "markdown",
   "metadata": {},
   "source": [
    "Se realiza ahora una regresión utilizando la columna día y hora como variables independientes. "
   ]
  },
  {
   "cell_type": "code",
   "execution_count": 14,
   "metadata": {},
   "outputs": [],
   "source": [
    "df_x = dfFilt[['Hora', 'Dia']]\n",
    "df_y = dfFilt[['Precio Zonal  ($/MWh)']]\n",
    "\n",
    "df_x_train = df_x[:8760]\n",
    "df_x_test = df_x[8760:]\n",
    "\n",
    "df_y_train = df_y[:8760]\n",
    "df_y_test = df_y[8760:]\n",
    "\n",
    "regr = linear_model.LinearRegression()\n",
    "regr.fit(df_x_train, df_y_train)\n",
    "df_y_pred = regr.predict(df_x_test)\n"
   ]
  },
  {
   "cell_type": "markdown",
   "metadata": {},
   "source": [
    "Se muestran los coeficientes de error y la varianza resultante."
   ]
  },
  {
   "cell_type": "code",
   "execution_count": 15,
   "metadata": {},
   "outputs": [
    {
     "name": "stdout",
     "output_type": "stream",
     "text": [
      "Coefficients: \n",
      " [[ 26.77205889 -47.36503495]]\n",
      "Mean squared error: 691395.85\n",
      "Variance score: -0.22\n"
     ]
    }
   ],
   "source": [
    "# The coefficients\n",
    "print('Coefficients: \\n', regr.coef_)\n",
    "# The mean squared error\n",
    "print(\"Mean squared error: %.2f\"\n",
    "      % mean_squared_error(df_y_test, df_y_pred))\n",
    "# Explained variance score: 1 is perfect prediction\n",
    "print('Variance score: %.2f' % r2_score(df_y_test, df_y_pred))"
   ]
  },
  {
   "cell_type": "markdown",
   "metadata": {},
   "source": [
    "Grafica de valores reales"
   ]
  },
  {
   "cell_type": "code",
   "execution_count": 17,
   "metadata": {},
   "outputs": [
    {
     "data": {
      "text/plain": [
       "<matplotlib.axes._subplots.AxesSubplot at 0x2243eee0320>"
      ]
     },
     "execution_count": 17,
     "metadata": {},
     "output_type": "execute_result"
    },
    {
     "data": {
      "image/png": "[encoded data removed]",
      "text/plain": [
       "<Figure size 432x288 with 1 Axes>"
      ]
     },
     "metadata": {},
     "output_type": "display_data"
    }
   ],
   "source": [
    "df_y_test.plot()"
   ]
  },
  {
   "cell_type": "markdown",
   "metadata": {},
   "source": [
    "Gráfica valores predecidos"
   ]
  },
  {
   "cell_type": "code",
   "execution_count": 19,
   "metadata": {},
   "outputs": [
    {
     "data": {
      "text/plain": [
       "<matplotlib.axes._subplots.AxesSubplot at 0x2243e0cf278>"
      ]
     },
     "execution_count": 19,
     "metadata": {},
     "output_type": "execute_result"
    },
    {
     "data": {
      "image/png": "[encoded data removed]",
      "text/plain": [
       "<Figure size 432x288 with 1 Axes>"
      ]
     },
     "metadata": {},
     "output_type": "display_data"
    }
   ],
   "source": [
    "df_y_pred = pd.DataFrame(df_y_pred)\n",
    "df_y_pred.plot()"
   ]
  },
  {
   "cell_type": "markdown",
   "metadata": {},
   "source": [
    "Los resultados obtenidos de la regresión múltiple:"
   ]
  },
  {
   "cell_type": "code",
   "execution_count": 16,
   "metadata": {},
   "outputs": [
    {
     "name": "stdout",
     "output_type": "stream",
     "text": [
      "                              OLS Regression Results                             \n",
      "=================================================================================\n",
      "Dep. Variable:     Precio Zonal  ($/MWh)   R-squared:                       0.101\n",
      "Model:                               OLS   Adj. R-squared:                  0.101\n",
      "Method:                    Least Squares   F-statistic:                     862.8\n",
      "Date:                   Fri, 23 Nov 2018   Prob (F-statistic):               0.00\n",
      "Time:                           15:52:18   Log-Likelihood:            -1.2119e+05\n",
      "No. Observations:                  15311   AIC:                         2.424e+05\n",
      "Df Residuals:                      15308   BIC:                         2.424e+05\n",
      "Df Model:                              2                                         \n",
      "Covariance Type:               nonrobust                                         \n",
      "==============================================================================\n",
      "                 coef    std err          t      P>|t|      [0.025      0.975]\n",
      "------------------------------------------------------------------------------\n",
      "const       1333.6411     15.393     86.638      0.000    1303.468    1363.814\n",
      "Hora          27.1009      0.774     35.031      0.000      25.585      28.617\n",
      "Dia          -59.6991      2.675    -22.318      0.000     -64.942     -54.456\n",
      "==============================================================================\n",
      "Omnibus:                     5343.705   Durbin-Watson:                   0.162\n",
      "Prob(Omnibus):                  0.000   Jarque-Bera (JB):            23290.704\n",
      "Skew:                           1.670   Prob(JB):                         0.00\n",
      "Kurtosis:                       8.035   Cond. No.                         42.7\n",
      "==============================================================================\n",
      "\n",
      "Warnings:\n",
      "[1] Standard Errors assume that the covariance matrix of the errors is correctly specified.\n"
     ]
    }
   ],
   "source": [
    "import statsmodels.api as sm\n",
    "\n",
    "df_x = sm.add_constant(df_x)\n",
    "\n",
    "model = sm.OLS(df_y, df_x).fit()\n",
    "predictions = model.predict(df_x)\n",
    "\n",
    "summ = model.summary()\n",
    "\n",
    "print(summ)"
   ]
  },
  {
   "cell_type": "markdown",
   "metadata": {},
   "source": [
    "# Regresión Multiple (Filtrado sin zona)"
   ]
  },
  {
   "cell_type": "markdown",
   "metadata": {},
   "source": [
    "Se emite el fil. "
   ]
  },
  {
   "cell_type": "code",
   "execution_count": 30,
   "metadata": {},
   "outputs": [
    {
     "data": {
      "text/html": [
       "<div>\n",
       "<style scoped>\n",
       "    .dataframe tbody tr th:only-of-type {\n",
       "        vertical-align: middle;\n",
       "    }\n",
       "\n",
       "    .dataframe tbody tr th {\n",
       "        vertical-align: top;\n",
       "    }\n",
       "\n",
       "    .dataframe thead th {\n",
       "        text-align: right;\n",
       "    }\n",
       "</style>\n",
       "<table border=\"1\" class=\"dataframe\">\n",
       "  <thead>\n",
       "    <tr style=\"text-align: right;\">\n",
       "      <th></th>\n",
       "      <th>Fecha</th>\n",
       "      <th>Hora</th>\n",
       "      <th>Precio Zonal  ($/MWh)</th>\n",
       "    </tr>\n",
       "  </thead>\n",
       "  <tbody>\n",
       "    <tr>\n",
       "      <th>0</th>\n",
       "      <td>01/01/2017</td>\n",
       "      <td>1</td>\n",
       "      <td>1010.09</td>\n",
       "    </tr>\n",
       "    <tr>\n",
       "      <th>1</th>\n",
       "      <td>01/01/2017</td>\n",
       "      <td>2</td>\n",
       "      <td>809.93</td>\n",
       "    </tr>\n",
       "    <tr>\n",
       "      <th>2</th>\n",
       "      <td>01/01/2017</td>\n",
       "      <td>3</td>\n",
       "      <td>707.82</td>\n",
       "    </tr>\n",
       "    <tr>\n",
       "      <th>3</th>\n",
       "      <td>01/01/2017</td>\n",
       "      <td>4</td>\n",
       "      <td>675.76</td>\n",
       "    </tr>\n",
       "    <tr>\n",
       "      <th>4</th>\n",
       "      <td>01/01/2017</td>\n",
       "      <td>5</td>\n",
       "      <td>659.99</td>\n",
       "    </tr>\n",
       "  </tbody>\n",
       "</table>\n",
       "</div>"
      ],
      "text/plain": [
       "        Fecha  Hora  Precio Zonal  ($/MWh)\n",
       "0  01/01/2017     1                1010.09\n",
       "1  01/01/2017     2                 809.93\n",
       "2  01/01/2017     3                 707.82\n",
       "3  01/01/2017     4                 675.76\n",
       "4  01/01/2017     5                 659.99"
      ]
     },
     "execution_count": 30,
     "metadata": {},
     "output_type": "execute_result"
    }
   ],
   "source": [
    "dfFilt2 = df1718[['Fecha','Hora', 'Precio Zonal  ($/MWh)']]\n",
    "dfFilt2.head()"
   ]
  },
  {
   "cell_type": "markdown",
   "metadata": {},
   "source": [
    "Se agrega la columna 'Día' que corresponderá a la variable independiente que se agrega para la regresión. "
   ]
  },
  {
   "cell_type": "code",
   "execution_count": 31,
   "metadata": {},
   "outputs": [
    {
     "data": {
      "text/html": [
       "<div>\n",
       "<style scoped>\n",
       "    .dataframe tbody tr th:only-of-type {\n",
       "        vertical-align: middle;\n",
       "    }\n",
       "\n",
       "    .dataframe tbody tr th {\n",
       "        vertical-align: top;\n",
       "    }\n",
       "\n",
       "    .dataframe thead th {\n",
       "        text-align: right;\n",
       "    }\n",
       "</style>\n",
       "<table border=\"1\" class=\"dataframe\">\n",
       "  <thead>\n",
       "    <tr style=\"text-align: right;\">\n",
       "      <th></th>\n",
       "      <th>Fecha</th>\n",
       "      <th>Hora</th>\n",
       "      <th>Precio Zonal  ($/MWh)</th>\n",
       "      <th>Dia</th>\n",
       "    </tr>\n",
       "  </thead>\n",
       "  <tbody>\n",
       "    <tr>\n",
       "      <th>0</th>\n",
       "      <td>01/01/2017</td>\n",
       "      <td>1</td>\n",
       "      <td>1010.09</td>\n",
       "      <td>7</td>\n",
       "    </tr>\n",
       "    <tr>\n",
       "      <th>1</th>\n",
       "      <td>01/01/2017</td>\n",
       "      <td>2</td>\n",
       "      <td>809.93</td>\n",
       "      <td>7</td>\n",
       "    </tr>\n",
       "    <tr>\n",
       "      <th>2</th>\n",
       "      <td>01/01/2017</td>\n",
       "      <td>3</td>\n",
       "      <td>707.82</td>\n",
       "      <td>7</td>\n",
       "    </tr>\n",
       "    <tr>\n",
       "      <th>3</th>\n",
       "      <td>01/01/2017</td>\n",
       "      <td>4</td>\n",
       "      <td>675.76</td>\n",
       "      <td>7</td>\n",
       "    </tr>\n",
       "    <tr>\n",
       "      <th>4</th>\n",
       "      <td>01/01/2017</td>\n",
       "      <td>5</td>\n",
       "      <td>659.99</td>\n",
       "      <td>7</td>\n",
       "    </tr>\n",
       "  </tbody>\n",
       "</table>\n",
       "</div>"
      ],
      "text/plain": [
       "        Fecha  Hora  Precio Zonal  ($/MWh)  Dia\n",
       "0  01/01/2017     1                1010.09    7\n",
       "1  01/01/2017     2                 809.93    7\n",
       "2  01/01/2017     3                 707.82    7\n",
       "3  01/01/2017     4                 675.76    7\n",
       "4  01/01/2017     5                 659.99    7"
      ]
     },
     "execution_count": 31,
     "metadata": {},
     "output_type": "execute_result"
    }
   ],
   "source": [
    "dfFilt2 = dfFilt2.reset_index(drop= True)\n",
    "dia=[] #serie donde coloco todo lo que voy a adicionar en la columna\n",
    "\n",
    "for index,row in dfFilt2.iterrows():\n",
    "    dia.append(date.isoweekday(dt.strptime(row['Fecha'],'%d/%m/%Y')))\n",
    "#https://pandas.pydata.org/pandas-docs/stable/merging.html\n",
    "sdia=pd.Series(dia, name='Dia') \n",
    "dfFilt2 = pd.concat([dfFilt2, sdia], axis=1)\n",
    "\n",
    "dfFilt2.head()"
   ]
  },
  {
   "cell_type": "code",
   "execution_count": 32,
   "metadata": {},
   "outputs": [],
   "source": [
    "df_x = dfFilt2[['Hora', 'Dia']]\n",
    "df_y = dfFilt2[['Precio Zonal  ($/MWh)']]\n",
    "\n",
    "df_x_train = df_x[:8760]\n",
    "df_x_test = df_x[8760:]\n",
    "\n",
    "df_y_train = df_y[:8760]\n",
    "df_y_test = df_y[8760:]\n",
    "\n",
    "regr = linear_model.LinearRegression()\n",
    "regr.fit(df_x_train, df_y_train)\n",
    "df_y_pred = regr.predict(df_x_test)"
   ]
  },
  {
   "cell_type": "code",
   "execution_count": 33,
   "metadata": {},
   "outputs": [
    {
     "name": "stdout",
     "output_type": "stream",
     "text": [
      "Coefficients: \n",
      " [[ 18.05678693 -41.30229583]]\n",
      "Mean squared error: 1060936.00\n",
      "Variance score: -0.56\n"
     ]
    }
   ],
   "source": [
    "# The coefficients\n",
    "print('Coefficients: \\n', regr.coef_)\n",
    "# The mean squared error\n",
    "print(\"Mean squared error: %.2f\"\n",
    "      % mean_squared_error(df_y_test, df_y_pred))\n",
    "# Explained variance score: 1 is perfect prediction\n",
    "print('Variance score: %.2f' % r2_score(df_y_test, df_y_pred))"
   ]
  },
  {
   "cell_type": "markdown",
   "metadata": {},
   "source": [
    "Gráfica Valores Reales"
   ]
  },
  {
   "cell_type": "code",
   "execution_count": 34,
   "metadata": {},
   "outputs": [
    {
     "data": {
      "text/plain": [
       "<matplotlib.axes._subplots.AxesSubplot at 0x2243f9d21d0>"
      ]
     },
     "execution_count": 34,
     "metadata": {},
     "output_type": "execute_result"
    },
    {
     "data": {
      "image/png": "[encoded data removed]",
      "text/plain": [
       "<Figure size 432x288 with 1 Axes>"
      ]
     },
     "metadata": {},
     "output_type": "display_data"
    }
   ],
   "source": [
    "df_y_test.plot()"
   ]
  },
  {
   "cell_type": "markdown",
   "metadata": {},
   "source": [
    "Gráfica valores predecidos"
   ]
  },
  {
   "cell_type": "code",
   "execution_count": 35,
   "metadata": {},
   "outputs": [
    {
     "data": {
      "text/plain": [
       "<matplotlib.axes._subplots.AxesSubplot at 0x22440660c18>"
      ]
     },
     "execution_count": 35,
     "metadata": {},
     "output_type": "execute_result"
    },
    {
     "data": {
      "image/png": "[encoded data removed]",
      "text/plain": [
       "<Figure size 432x288 with 1 Axes>"
      ]
     },
     "metadata": {},
     "output_type": "display_data"
    }
   ],
   "source": [
    "df_y_pred = pd.DataFrame(df_y_pred)\n",
    "df_y_pred.plot()"
   ]
  },
  {
   "cell_type": "code",
   "execution_count": 36,
   "metadata": {},
   "outputs": [],
   "source": [
    "df_x = sm.add_constant(df_x)\n",
    "\n",
    "model = sm.OLS(df_y, df_x).fit()\n",
    "predictions = model.predict(df_x)\n",
    "\n",
    "summ2 = model.summary()"
   ]
  },
  {
   "cell_type": "code",
   "execution_count": 37,
   "metadata": {},
   "outputs": [
    {
     "name": "stdout",
     "output_type": "stream",
     "text": [
      "                              OLS Regression Results                             \n",
      "=================================================================================\n",
      "Dep. Variable:     Precio Zonal  ($/MWh)   R-squared:                       0.101\n",
      "Model:                               OLS   Adj. R-squared:                  0.101\n",
      "Method:                    Least Squares   F-statistic:                     862.8\n",
      "Date:                   Fri, 23 Nov 2018   Prob (F-statistic):               0.00\n",
      "Time:                           15:52:18   Log-Likelihood:            -1.2119e+05\n",
      "No. Observations:                  15311   AIC:                         2.424e+05\n",
      "Df Residuals:                      15308   BIC:                         2.424e+05\n",
      "Df Model:                              2                                         \n",
      "Covariance Type:               nonrobust                                         \n",
      "==============================================================================\n",
      "                 coef    std err          t      P>|t|      [0.025      0.975]\n",
      "------------------------------------------------------------------------------\n",
      "const       1333.6411     15.393     86.638      0.000    1303.468    1363.814\n",
      "Hora          27.1009      0.774     35.031      0.000      25.585      28.617\n",
      "Dia          -59.6991      2.675    -22.318      0.000     -64.942     -54.456\n",
      "==============================================================================\n",
      "Omnibus:                     5343.705   Durbin-Watson:                   0.162\n",
      "Prob(Omnibus):                  0.000   Jarque-Bera (JB):            23290.704\n",
      "Skew:                           1.670   Prob(JB):                         0.00\n",
      "Kurtosis:                       8.035   Cond. No.                         42.7\n",
      "==============================================================================\n",
      "\n",
      "Warnings:\n",
      "[1] Standard Errors assume that the covariance matrix of the errors is correctly specified.\n"
     ]
    }
   ],
   "source": [
    "print(summ)"
   ]
  },
  {
   "cell_type": "code",
   "execution_count": 38,
   "metadata": {},
   "outputs": [
    {
     "name": "stdout",
     "output_type": "stream",
     "text": [
      "                              OLS Regression Results                             \n",
      "=================================================================================\n",
      "Dep. Variable:     Precio Zonal  ($/MWh)   R-squared:                       0.078\n",
      "Model:                               OLS   Adj. R-squared:                  0.078\n",
      "Method:                    Least Squares   F-statistic:                 6.499e+04\n",
      "Date:                   Fri, 23 Nov 2018   Prob (F-statistic):               0.00\n",
      "Time:                           16:10:35   Log-Likelihood:            -1.2517e+07\n",
      "No. Observations:                1546411   AIC:                         2.503e+07\n",
      "Df Residuals:                    1546408   BIC:                         2.503e+07\n",
      "Df Model:                              2                                         \n",
      "Covariance Type:               nonrobust                                         \n",
      "==============================================================================\n",
      "                 coef    std err          t      P>|t|      [0.025      0.975]\n",
      "------------------------------------------------------------------------------\n",
      "const       1323.4666      1.832    722.496      0.000    1319.876    1327.057\n",
      "Hora          28.5986      0.092    310.651      0.000      28.418      28.779\n",
      "Dia          -58.2306      0.318   -182.932      0.000     -58.854     -57.607\n",
      "==============================================================================\n",
      "Omnibus:                  1052261.817   Durbin-Watson:                   0.202\n",
      "Prob(Omnibus):                  0.000   Jarque-Bera (JB):         32102860.658\n",
      "Skew:                           2.865   Prob(JB):                         0.00\n",
      "Kurtosis:                      24.573   Cond. No.                         42.7\n",
      "==============================================================================\n",
      "\n",
      "Warnings:\n",
      "[1] Standard Errors assume that the covariance matrix of the errors is correctly specified.\n"
     ]
    }
   ],
   "source": [
    "print(summ2)"
   ]
  },
  {
   "cell_type": "markdown",
   "metadata": {},
   "source": [
    "# Regresión Múltiple 3 Variables"
   ]
  },
  {
   "cell_type": "code",
   "execution_count": null,
   "metadata": {},
   "outputs": [],
   "source": []
  }
 ],
 "metadata": {
  "kernelspec": {
   "display_name": "Python 3",
   "language": "python",
   "name": "python3"
  },
  "language_info": {
   "codemirror_mode": {
    "name": "ipython",
    "version": 3
   },
   "file_extension": ".py",
   "mimetype": "text/x-python",
   "name": "python",
   "nbconvert_exporter": "python",
   "pygments_lexer": "ipython3",
   "version": "3.6.5"
  }
 },
 "nbformat": 4,
 "nbformat_minor": 2
}
